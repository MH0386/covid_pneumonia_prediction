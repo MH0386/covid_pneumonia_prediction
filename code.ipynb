{
 "cells": [
  {
   "cell_type": "code",
   "execution_count": 1,
   "id": "82fb85f7",
   "metadata": {
    "execution": {
     "iopub.execute_input": "2024-05-07T18:47:52.774129Z",
     "iopub.status.busy": "2024-05-07T18:47:52.773072Z",
     "iopub.status.idle": "2024-05-07T18:48:08.671587Z",
     "shell.execute_reply": "2024-05-07T18:48:08.670413Z"
    },
    "papermill": {
     "duration": 15.910534,
     "end_time": "2024-05-07T18:48:08.674252",
     "exception": false,
     "start_time": "2024-05-07T18:47:52.763718",
     "status": "completed"
    },
    "tags": []
   },
   "outputs": [
    {
     "name": "stdout",
     "output_type": "stream",
     "text": [
      "Collecting uv\r\n",
      "  Downloading uv-0.1.40-py3-none-manylinux_2_17_x86_64.manylinux2014_x86_64.whl.metadata (30 kB)\r\n",
      "Downloading uv-0.1.40-py3-none-manylinux_2_17_x86_64.manylinux2014_x86_64.whl (12.5 MB)\r\n",
      "\u001b[2K   \u001b[90m━━━━━━━━━━━━━━━━━━━━━━━━━━━━━━━━━━━━━━━━\u001b[0m \u001b[32m12.5/12.5 MB\u001b[0m \u001b[31m81.1 MB/s\u001b[0m eta \u001b[36m0:00:00\u001b[0m\r\n",
      "\u001b[?25hInstalling collected packages: uv\r\n",
      "Successfully installed uv-0.1.40\r\n",
      "\u001b[2K\u001b[2mResolved \u001b[1m17 packages\u001b[0m in 231ms\u001b[0m\r\n",
      "\u001b[2K\u001b[2mDownloaded \u001b[1m6 packages\u001b[0m in 395ms\u001b[0m\r\n",
      "\u001b[2K\u001b[2mInstalled \u001b[1m6 packages\u001b[0m in 21ms\u001b[0m\r\n",
      " \u001b[31m-\u001b[39m \u001b[1mcontourpy\u001b[0m\u001b[2m==1.2.0\u001b[0m\r\n",
      " \u001b[31m-\u001b[39m \u001b[1mcontourpy\u001b[0m\u001b[2m==1.2.1 (from file:///home/conda/feedstock_root/build_artifacts/contourpy_1712429905637/work)\u001b[0m\r\n",
      " \u001b[32m+\u001b[39m \u001b[1mcontourpy\u001b[0m\u001b[2m==1.2.0\u001b[0m\r\n",
      " \u001b[31m-\u001b[39m \u001b[1mfonttools\u001b[0m\u001b[2m==4.47.0\u001b[0m\r\n",
      " \u001b[31m-\u001b[39m \u001b[1mfonttools\u001b[0m\u001b[2m==4.51.0 (from file:///home/conda/feedstock_root/build_artifacts/fonttools_1712344558731/work)\u001b[0m\r\n",
      " \u001b[32m+\u001b[39m \u001b[1mfonttools\u001b[0m\u001b[2m==4.47.0\u001b[0m\r\n",
      " \u001b[31m-\u001b[39m \u001b[1mmatplotlib\u001b[0m\u001b[2m==3.7.5\u001b[0m\r\n",
      " \u001b[31m-\u001b[39m \u001b[1mmatplotlib\u001b[0m\u001b[2m==3.8.4 (from file:///home/conda/feedstock_root/build_artifacts/matplotlib-suite_1712605966339/work)\u001b[0m\r\n",
      " \u001b[32m+\u001b[39m \u001b[1mmatplotlib\u001b[0m\u001b[2m==3.7.5\u001b[0m\r\n",
      " \u001b[31m-\u001b[39m \u001b[1mpillow\u001b[0m\u001b[2m==9.5.0\u001b[0m\r\n",
      " \u001b[31m-\u001b[39m \u001b[1mpillow\u001b[0m\u001b[2m==10.3.0 (from file:///home/conda/feedstock_root/build_artifacts/pillow_1712154467551/work)\u001b[0m\r\n",
      " \u001b[32m+\u001b[39m \u001b[1mpillow\u001b[0m\u001b[2m==9.5.0\u001b[0m\r\n",
      " \u001b[31m-\u001b[39m \u001b[1mpyparsing\u001b[0m\u001b[2m==3.1.1\u001b[0m\r\n",
      " \u001b[31m-\u001b[39m \u001b[1mpyparsing\u001b[0m\u001b[2m==3.1.2 (from file:///home/conda/feedstock_root/build_artifacts/pyparsing_1709721012883/work)\u001b[0m\r\n",
      " \u001b[32m+\u001b[39m \u001b[1mpyparsing\u001b[0m\u001b[2m==3.1.1\u001b[0m\r\n",
      " \u001b[32m+\u001b[39m \u001b[1mpyswarms\u001b[0m\u001b[2m==1.3.0\u001b[0m\r\n"
     ]
    }
   ],
   "source": [
    "import os\n",
    "os.environ[\"CONDA_PREFIX\"] = \"/opt/conda\" if os.path.exists(\"/opt/conda\") else '/usr/local'\n",
    "!pip install uv\n",
    "!uv pip install pyswarms"
   ]
  },
  {
   "cell_type": "code",
   "execution_count": 2,
   "id": "4a8d30a0",
   "metadata": {
    "_cell_guid": "b1076dfc-b9ad-4769-8c92-a6c4dae69d19",
    "_uuid": "8f2839f25d086af736a60e9eeb907d3b93b6e0e5",
    "execution": {
     "iopub.execute_input": "2024-05-07T18:48:08.694338Z",
     "iopub.status.busy": "2024-05-07T18:48:08.693260Z",
     "iopub.status.idle": "2024-05-07T18:48:11.339508Z",
     "shell.execute_reply": "2024-05-07T18:48:11.338457Z"
    },
    "papermill": {
     "duration": 2.658833,
     "end_time": "2024-05-07T18:48:11.342084",
     "exception": false,
     "start_time": "2024-05-07T18:48:08.683251",
     "status": "completed"
    },
    "tags": []
   },
   "outputs": [],
   "source": [
    "import pandas as pd\n",
    "import matplotlib.pyplot as plt\n",
    "import seaborn as sns\n",
    "from sklearn.metrics import (\n",
    "    accuracy_score,\n",
    "    precision_score,\n",
    "    recall_score,\n",
    "    f1_score,\n",
    "    classification_report,\n",
    "    confusion_matrix,\n",
    ")\n",
    "from sklearn.linear_model import LogisticRegression\n",
    "from sklearn.model_selection import train_test_split\n",
    "import pyswarms as ps\n",
    "from pyswarms.utils.functions import single_obj as fx\n",
    "from pyswarms.utils.plotters import plot_cost_history, plot_contour, plot_surface"
   ]
  },
  {
   "cell_type": "markdown",
   "id": "3287974b",
   "metadata": {
    "papermill": {
     "duration": 0.008466,
     "end_time": "2024-05-07T18:48:11.359774",
     "exception": false,
     "start_time": "2024-05-07T18:48:11.351308",
     "status": "completed"
    },
    "tags": []
   },
   "source": [
    "# Data"
   ]
  },
  {
   "cell_type": "code",
   "execution_count": 3,
   "id": "a98cbb17",
   "metadata": {
    "execution": {
     "iopub.execute_input": "2024-05-07T18:48:11.379845Z",
     "iopub.status.busy": "2024-05-07T18:48:11.379304Z",
     "iopub.status.idle": "2024-05-07T18:48:11.534424Z",
     "shell.execute_reply": "2024-05-07T18:48:11.533178Z"
    },
    "papermill": {
     "duration": 0.167731,
     "end_time": "2024-05-07T18:48:11.536962",
     "exception": false,
     "start_time": "2024-05-07T18:48:11.369231",
     "status": "completed"
    },
    "tags": []
   },
   "outputs": [],
   "source": [
    "data = pd.read_csv(\n",
    "    \"diabetes_prediction_dataset.csv\" \n",
    "    if os.path.exists(\"diabetes_prediction_dataset.csv\") \n",
    "    else \"/kaggle/input/diabetes-prediction-dataset/diabetes_prediction_dataset.csv\"\n",
    ")"
   ]
  },
  {
   "cell_type": "code",
   "execution_count": 4,
   "id": "d2eb22ab",
   "metadata": {
    "execution": {
     "iopub.execute_input": "2024-05-07T18:48:11.556200Z",
     "iopub.status.busy": "2024-05-07T18:48:11.555808Z",
     "iopub.status.idle": "2024-05-07T18:48:11.586585Z",
     "shell.execute_reply": "2024-05-07T18:48:11.585812Z"
    },
    "papermill": {
     "duration": 0.042701,
     "end_time": "2024-05-07T18:48:11.588490",
     "exception": false,
     "start_time": "2024-05-07T18:48:11.545789",
     "status": "completed"
    },
    "tags": []
   },
   "outputs": [
    {
     "data": {
      "text/html": [
       "<div>\n",
       "<style scoped>\n",
       "    .dataframe tbody tr th:only-of-type {\n",
       "        vertical-align: middle;\n",
       "    }\n",
       "\n",
       "    .dataframe tbody tr th {\n",
       "        vertical-align: top;\n",
       "    }\n",
       "\n",
       "    .dataframe thead th {\n",
       "        text-align: right;\n",
       "    }\n",
       "</style>\n",
       "<table border=\"1\" class=\"dataframe\">\n",
       "  <thead>\n",
       "    <tr style=\"text-align: right;\">\n",
       "      <th></th>\n",
       "      <th>gender</th>\n",
       "      <th>age</th>\n",
       "      <th>hypertension</th>\n",
       "      <th>heart_disease</th>\n",
       "      <th>smoking_history</th>\n",
       "      <th>bmi</th>\n",
       "      <th>HbA1c_level</th>\n",
       "      <th>blood_glucose_level</th>\n",
       "      <th>diabetes</th>\n",
       "    </tr>\n",
       "  </thead>\n",
       "  <tbody>\n",
       "    <tr>\n",
       "      <th>0</th>\n",
       "      <td>Female</td>\n",
       "      <td>80.0</td>\n",
       "      <td>0</td>\n",
       "      <td>1</td>\n",
       "      <td>never</td>\n",
       "      <td>25.19</td>\n",
       "      <td>6.6</td>\n",
       "      <td>140</td>\n",
       "      <td>0</td>\n",
       "    </tr>\n",
       "    <tr>\n",
       "      <th>1</th>\n",
       "      <td>Female</td>\n",
       "      <td>54.0</td>\n",
       "      <td>0</td>\n",
       "      <td>0</td>\n",
       "      <td>No Info</td>\n",
       "      <td>27.32</td>\n",
       "      <td>6.6</td>\n",
       "      <td>80</td>\n",
       "      <td>0</td>\n",
       "    </tr>\n",
       "    <tr>\n",
       "      <th>2</th>\n",
       "      <td>Male</td>\n",
       "      <td>28.0</td>\n",
       "      <td>0</td>\n",
       "      <td>0</td>\n",
       "      <td>never</td>\n",
       "      <td>27.32</td>\n",
       "      <td>5.7</td>\n",
       "      <td>158</td>\n",
       "      <td>0</td>\n",
       "    </tr>\n",
       "    <tr>\n",
       "      <th>3</th>\n",
       "      <td>Female</td>\n",
       "      <td>36.0</td>\n",
       "      <td>0</td>\n",
       "      <td>0</td>\n",
       "      <td>current</td>\n",
       "      <td>23.45</td>\n",
       "      <td>5.0</td>\n",
       "      <td>155</td>\n",
       "      <td>0</td>\n",
       "    </tr>\n",
       "    <tr>\n",
       "      <th>4</th>\n",
       "      <td>Male</td>\n",
       "      <td>76.0</td>\n",
       "      <td>1</td>\n",
       "      <td>1</td>\n",
       "      <td>current</td>\n",
       "      <td>20.14</td>\n",
       "      <td>4.8</td>\n",
       "      <td>155</td>\n",
       "      <td>0</td>\n",
       "    </tr>\n",
       "    <tr>\n",
       "      <th>...</th>\n",
       "      <td>...</td>\n",
       "      <td>...</td>\n",
       "      <td>...</td>\n",
       "      <td>...</td>\n",
       "      <td>...</td>\n",
       "      <td>...</td>\n",
       "      <td>...</td>\n",
       "      <td>...</td>\n",
       "      <td>...</td>\n",
       "    </tr>\n",
       "    <tr>\n",
       "      <th>99995</th>\n",
       "      <td>Female</td>\n",
       "      <td>80.0</td>\n",
       "      <td>0</td>\n",
       "      <td>0</td>\n",
       "      <td>No Info</td>\n",
       "      <td>27.32</td>\n",
       "      <td>6.2</td>\n",
       "      <td>90</td>\n",
       "      <td>0</td>\n",
       "    </tr>\n",
       "    <tr>\n",
       "      <th>99996</th>\n",
       "      <td>Female</td>\n",
       "      <td>2.0</td>\n",
       "      <td>0</td>\n",
       "      <td>0</td>\n",
       "      <td>No Info</td>\n",
       "      <td>17.37</td>\n",
       "      <td>6.5</td>\n",
       "      <td>100</td>\n",
       "      <td>0</td>\n",
       "    </tr>\n",
       "    <tr>\n",
       "      <th>99997</th>\n",
       "      <td>Male</td>\n",
       "      <td>66.0</td>\n",
       "      <td>0</td>\n",
       "      <td>0</td>\n",
       "      <td>former</td>\n",
       "      <td>27.83</td>\n",
       "      <td>5.7</td>\n",
       "      <td>155</td>\n",
       "      <td>0</td>\n",
       "    </tr>\n",
       "    <tr>\n",
       "      <th>99998</th>\n",
       "      <td>Female</td>\n",
       "      <td>24.0</td>\n",
       "      <td>0</td>\n",
       "      <td>0</td>\n",
       "      <td>never</td>\n",
       "      <td>35.42</td>\n",
       "      <td>4.0</td>\n",
       "      <td>100</td>\n",
       "      <td>0</td>\n",
       "    </tr>\n",
       "    <tr>\n",
       "      <th>99999</th>\n",
       "      <td>Female</td>\n",
       "      <td>57.0</td>\n",
       "      <td>0</td>\n",
       "      <td>0</td>\n",
       "      <td>current</td>\n",
       "      <td>22.43</td>\n",
       "      <td>6.6</td>\n",
       "      <td>90</td>\n",
       "      <td>0</td>\n",
       "    </tr>\n",
       "  </tbody>\n",
       "</table>\n",
       "<p>100000 rows × 9 columns</p>\n",
       "</div>"
      ],
      "text/plain": [
       "       gender   age  hypertension  heart_disease smoking_history    bmi  \\\n",
       "0      Female  80.0             0              1           never  25.19   \n",
       "1      Female  54.0             0              0         No Info  27.32   \n",
       "2        Male  28.0             0              0           never  27.32   \n",
       "3      Female  36.0             0              0         current  23.45   \n",
       "4        Male  76.0             1              1         current  20.14   \n",
       "...       ...   ...           ...            ...             ...    ...   \n",
       "99995  Female  80.0             0              0         No Info  27.32   \n",
       "99996  Female   2.0             0              0         No Info  17.37   \n",
       "99997    Male  66.0             0              0          former  27.83   \n",
       "99998  Female  24.0             0              0           never  35.42   \n",
       "99999  Female  57.0             0              0         current  22.43   \n",
       "\n",
       "       HbA1c_level  blood_glucose_level  diabetes  \n",
       "0              6.6                  140         0  \n",
       "1              6.6                   80         0  \n",
       "2              5.7                  158         0  \n",
       "3              5.0                  155         0  \n",
       "4              4.8                  155         0  \n",
       "...            ...                  ...       ...  \n",
       "99995          6.2                   90         0  \n",
       "99996          6.5                  100         0  \n",
       "99997          5.7                  155         0  \n",
       "99998          4.0                  100         0  \n",
       "99999          6.6                   90         0  \n",
       "\n",
       "[100000 rows x 9 columns]"
      ]
     },
     "execution_count": 4,
     "metadata": {},
     "output_type": "execute_result"
    }
   ],
   "source": [
    "data"
   ]
  },
  {
   "cell_type": "code",
   "execution_count": 5,
   "id": "aa3486a6",
   "metadata": {
    "execution": {
     "iopub.execute_input": "2024-05-07T18:48:11.609960Z",
     "iopub.status.busy": "2024-05-07T18:48:11.609277Z",
     "iopub.status.idle": "2024-05-07T18:48:11.641061Z",
     "shell.execute_reply": "2024-05-07T18:48:11.639415Z"
    },
    "papermill": {
     "duration": 0.045698,
     "end_time": "2024-05-07T18:48:11.643383",
     "exception": false,
     "start_time": "2024-05-07T18:48:11.597685",
     "status": "completed"
    },
    "tags": []
   },
   "outputs": [
    {
     "name": "stdout",
     "output_type": "stream",
     "text": [
      "<class 'pandas.core.frame.DataFrame'>\n",
      "RangeIndex: 100000 entries, 0 to 99999\n",
      "Data columns (total 9 columns):\n",
      " #   Column               Non-Null Count   Dtype  \n",
      "---  ------               --------------   -----  \n",
      " 0   gender               100000 non-null  object \n",
      " 1   age                  100000 non-null  float64\n",
      " 2   hypertension         100000 non-null  int64  \n",
      " 3   heart_disease        100000 non-null  int64  \n",
      " 4   smoking_history      100000 non-null  object \n",
      " 5   bmi                  100000 non-null  float64\n",
      " 6   HbA1c_level          100000 non-null  float64\n",
      " 7   blood_glucose_level  100000 non-null  int64  \n",
      " 8   diabetes             100000 non-null  int64  \n",
      "dtypes: float64(3), int64(4), object(2)\n",
      "memory usage: 6.9+ MB\n"
     ]
    }
   ],
   "source": [
    "data.info()"
   ]
  },
  {
   "cell_type": "code",
   "execution_count": 6,
   "id": "da6ee0b8",
   "metadata": {
    "execution": {
     "iopub.execute_input": "2024-05-07T18:48:11.663653Z",
     "iopub.status.busy": "2024-05-07T18:48:11.663277Z",
     "iopub.status.idle": "2024-05-07T18:48:11.676600Z",
     "shell.execute_reply": "2024-05-07T18:48:11.675681Z"
    },
    "papermill": {
     "duration": 0.026004,
     "end_time": "2024-05-07T18:48:11.678688",
     "exception": false,
     "start_time": "2024-05-07T18:48:11.652684",
     "status": "completed"
    },
    "tags": []
   },
   "outputs": [
    {
     "data": {
      "text/plain": [
       "smoking_history\n",
       "No Info        35816\n",
       "never          35095\n",
       "former          9352\n",
       "current         9286\n",
       "not current     6447\n",
       "ever            4004\n",
       "Name: count, dtype: int64"
      ]
     },
     "execution_count": 6,
     "metadata": {},
     "output_type": "execute_result"
    }
   ],
   "source": [
    "data[\"smoking_history\"].value_counts()"
   ]
  },
  {
   "cell_type": "code",
   "execution_count": 7,
   "id": "5dd4160d",
   "metadata": {
    "execution": {
     "iopub.execute_input": "2024-05-07T18:48:11.699507Z",
     "iopub.status.busy": "2024-05-07T18:48:11.698855Z",
     "iopub.status.idle": "2024-05-07T18:48:11.717864Z",
     "shell.execute_reply": "2024-05-07T18:48:11.716797Z"
    },
    "papermill": {
     "duration": 0.03229,
     "end_time": "2024-05-07T18:48:11.720347",
     "exception": false,
     "start_time": "2024-05-07T18:48:11.688057",
     "status": "completed"
    },
    "tags": []
   },
   "outputs": [],
   "source": [
    "data = data[data[\"smoking_history\"] != \"No Info\"]"
   ]
  },
  {
   "cell_type": "code",
   "execution_count": 8,
   "id": "b8ec52ee",
   "metadata": {
    "execution": {
     "iopub.execute_input": "2024-05-07T18:48:11.740786Z",
     "iopub.status.busy": "2024-05-07T18:48:11.740379Z",
     "iopub.status.idle": "2024-05-07T18:48:11.753372Z",
     "shell.execute_reply": "2024-05-07T18:48:11.752323Z"
    },
    "papermill": {
     "duration": 0.02569,
     "end_time": "2024-05-07T18:48:11.755576",
     "exception": false,
     "start_time": "2024-05-07T18:48:11.729886",
     "status": "completed"
    },
    "tags": []
   },
   "outputs": [
    {
     "data": {
      "text/plain": [
       "gender\n",
       "Female    38852\n",
       "Male      25320\n",
       "Other        12\n",
       "Name: count, dtype: int64"
      ]
     },
     "execution_count": 8,
     "metadata": {},
     "output_type": "execute_result"
    }
   ],
   "source": [
    "data[\"gender\"].value_counts()"
   ]
  },
  {
   "cell_type": "code",
   "execution_count": 9,
   "id": "daa63bf5",
   "metadata": {
    "execution": {
     "iopub.execute_input": "2024-05-07T18:48:11.776789Z",
     "iopub.status.busy": "2024-05-07T18:48:11.776377Z",
     "iopub.status.idle": "2024-05-07T18:48:11.790257Z",
     "shell.execute_reply": "2024-05-07T18:48:11.789296Z"
    },
    "papermill": {
     "duration": 0.027443,
     "end_time": "2024-05-07T18:48:11.792715",
     "exception": false,
     "start_time": "2024-05-07T18:48:11.765272",
     "status": "completed"
    },
    "tags": []
   },
   "outputs": [],
   "source": [
    "data = data[data[\"gender\"] != 'Other']"
   ]
  },
  {
   "cell_type": "code",
   "execution_count": 10,
   "id": "646f0e03",
   "metadata": {
    "execution": {
     "iopub.execute_input": "2024-05-07T18:48:11.815050Z",
     "iopub.status.busy": "2024-05-07T18:48:11.814704Z",
     "iopub.status.idle": "2024-05-07T18:48:11.825876Z",
     "shell.execute_reply": "2024-05-07T18:48:11.824885Z"
    },
    "papermill": {
     "duration": 0.025449,
     "end_time": "2024-05-07T18:48:11.827941",
     "exception": false,
     "start_time": "2024-05-07T18:48:11.802492",
     "status": "completed"
    },
    "tags": []
   },
   "outputs": [],
   "source": [
    "data[\"gender\"] = data[\"gender\"].map({\"Male\": 1, \"Female\": 0})"
   ]
  },
  {
   "cell_type": "code",
   "execution_count": 11,
   "id": "e1a1ef3e",
   "metadata": {
    "execution": {
     "iopub.execute_input": "2024-05-07T18:48:11.849869Z",
     "iopub.status.busy": "2024-05-07T18:48:11.849484Z",
     "iopub.status.idle": "2024-05-07T18:48:11.854433Z",
     "shell.execute_reply": "2024-05-07T18:48:11.853695Z"
    },
    "papermill": {
     "duration": 0.018458,
     "end_time": "2024-05-07T18:48:11.856278",
     "exception": false,
     "start_time": "2024-05-07T18:48:11.837820",
     "status": "completed"
    },
    "tags": []
   },
   "outputs": [],
   "source": [
    "data[\"gender\"] = data[\"gender\"].astype(int)"
   ]
  },
  {
   "cell_type": "code",
   "execution_count": 12,
   "id": "e5885cfc",
   "metadata": {
    "execution": {
     "iopub.execute_input": "2024-05-07T18:48:11.877516Z",
     "iopub.status.busy": "2024-05-07T18:48:11.877103Z",
     "iopub.status.idle": "2024-05-07T18:48:13.584329Z",
     "shell.execute_reply": "2024-05-07T18:48:13.583524Z"
    },
    "papermill": {
     "duration": 1.721213,
     "end_time": "2024-05-07T18:48:13.587354",
     "exception": false,
     "start_time": "2024-05-07T18:48:11.866141",
     "status": "completed"
    },
    "tags": []
   },
   "outputs": [
    {
     "data": {
      "image/png": "[encoded data removed]",
      "text/plain": [
       "<Figure size 2000x1500 with 9 Axes>"
      ]
     },
     "metadata": {},
     "output_type": "display_data"
    }
   ],
   "source": [
    "data.hist(figsize=(20, 15))\n",
    "plt.show()"
   ]
  },
  {
   "cell_type": "code",
   "execution_count": 13,
   "id": "19dbcf5c",
   "metadata": {
    "execution": {
     "iopub.execute_input": "2024-05-07T18:48:13.612565Z",
     "iopub.status.busy": "2024-05-07T18:48:13.611825Z",
     "iopub.status.idle": "2024-05-07T18:48:13.623760Z",
     "shell.execute_reply": "2024-05-07T18:48:13.622710Z"
    },
    "papermill": {
     "duration": 0.027097,
     "end_time": "2024-05-07T18:48:13.626089",
     "exception": false,
     "start_time": "2024-05-07T18:48:13.598992",
     "status": "completed"
    },
    "tags": []
   },
   "outputs": [
    {
     "data": {
      "text/plain": [
       "gender                 0\n",
       "age                    0\n",
       "hypertension           0\n",
       "heart_disease          0\n",
       "smoking_history        0\n",
       "bmi                    0\n",
       "HbA1c_level            0\n",
       "blood_glucose_level    0\n",
       "diabetes               0\n",
       "dtype: int64"
      ]
     },
     "execution_count": 13,
     "metadata": {},
     "output_type": "execute_result"
    }
   ],
   "source": [
    "data.isnull().sum()"
   ]
  },
  {
   "cell_type": "code",
   "execution_count": 14,
   "id": "0c57840e",
   "metadata": {
    "execution": {
     "iopub.execute_input": "2024-05-07T18:48:13.651363Z",
     "iopub.status.busy": "2024-05-07T18:48:13.650947Z",
     "iopub.status.idle": "2024-05-07T18:48:13.673157Z",
     "shell.execute_reply": "2024-05-07T18:48:13.672007Z"
    },
    "papermill": {
     "duration": 0.03735,
     "end_time": "2024-05-07T18:48:13.675327",
     "exception": false,
     "start_time": "2024-05-07T18:48:13.637977",
     "status": "completed"
    },
    "tags": []
   },
   "outputs": [
    {
     "data": {
      "text/plain": [
       "925"
      ]
     },
     "execution_count": 14,
     "metadata": {},
     "output_type": "execute_result"
    }
   ],
   "source": [
    "data.duplicated().sum()"
   ]
  },
  {
   "cell_type": "code",
   "execution_count": 15,
   "id": "0030d47b",
   "metadata": {
    "execution": {
     "iopub.execute_input": "2024-05-07T18:48:13.701692Z",
     "iopub.status.busy": "2024-05-07T18:48:13.700703Z",
     "iopub.status.idle": "2024-05-07T18:48:13.725404Z",
     "shell.execute_reply": "2024-05-07T18:48:13.724222Z"
    },
    "papermill": {
     "duration": 0.040418,
     "end_time": "2024-05-07T18:48:13.727915",
     "exception": false,
     "start_time": "2024-05-07T18:48:13.687497",
     "status": "completed"
    },
    "tags": []
   },
   "outputs": [],
   "source": [
    "data = data.drop_duplicates()"
   ]
  },
  {
   "cell_type": "code",
   "execution_count": 16,
   "id": "e7e0d703",
   "metadata": {
    "execution": {
     "iopub.execute_input": "2024-05-07T18:48:13.753819Z",
     "iopub.status.busy": "2024-05-07T18:48:13.753381Z",
     "iopub.status.idle": "2024-05-07T18:48:13.768384Z",
     "shell.execute_reply": "2024-05-07T18:48:13.767316Z"
    },
    "papermill": {
     "duration": 0.030394,
     "end_time": "2024-05-07T18:48:13.770679",
     "exception": false,
     "start_time": "2024-05-07T18:48:13.740285",
     "status": "completed"
    },
    "tags": []
   },
   "outputs": [
    {
     "name": "stdout",
     "output_type": "stream",
     "text": [
      "<class 'pandas.core.frame.DataFrame'>\n",
      "Index: 63247 entries, 0 to 99999\n",
      "Data columns (total 9 columns):\n",
      " #   Column               Non-Null Count  Dtype  \n",
      "---  ------               --------------  -----  \n",
      " 0   gender               63247 non-null  int64  \n",
      " 1   age                  63247 non-null  float64\n",
      " 2   hypertension         63247 non-null  int64  \n",
      " 3   heart_disease        63247 non-null  int64  \n",
      " 4   smoking_history      63247 non-null  object \n",
      " 5   bmi                  63247 non-null  float64\n",
      " 6   HbA1c_level          63247 non-null  float64\n",
      " 7   blood_glucose_level  63247 non-null  int64  \n",
      " 8   diabetes             63247 non-null  int64  \n",
      "dtypes: float64(3), int64(5), object(1)\n",
      "memory usage: 4.8+ MB\n"
     ]
    }
   ],
   "source": [
    "data.info()"
   ]
  },
  {
   "cell_type": "code",
   "execution_count": 17,
   "id": "7009ea42",
   "metadata": {
    "execution": {
     "iopub.execute_input": "2024-05-07T18:48:13.796336Z",
     "iopub.status.busy": "2024-05-07T18:48:13.795922Z",
     "iopub.status.idle": "2024-05-07T18:48:13.818000Z",
     "shell.execute_reply": "2024-05-07T18:48:13.817102Z"
    },
    "papermill": {
     "duration": 0.037478,
     "end_time": "2024-05-07T18:48:13.820307",
     "exception": false,
     "start_time": "2024-05-07T18:48:13.782829",
     "status": "completed"
    },
    "tags": []
   },
   "outputs": [],
   "source": [
    "data = pd.get_dummies(data, columns=[\"smoking_history\"])"
   ]
  },
  {
   "cell_type": "code",
   "execution_count": 18,
   "id": "f2b35eea",
   "metadata": {
    "execution": {
     "iopub.execute_input": "2024-05-07T18:48:13.846613Z",
     "iopub.status.busy": "2024-05-07T18:48:13.846202Z",
     "iopub.status.idle": "2024-05-07T18:48:13.852780Z",
     "shell.execute_reply": "2024-05-07T18:48:13.851813Z"
    },
    "papermill": {
     "duration": 0.022058,
     "end_time": "2024-05-07T18:48:13.855005",
     "exception": false,
     "start_time": "2024-05-07T18:48:13.832947",
     "status": "completed"
    },
    "tags": []
   },
   "outputs": [],
   "source": [
    "x = data.drop([\"diabetes\"], axis=1)\n",
    "y = data[\"diabetes\"]"
   ]
  },
  {
   "cell_type": "code",
   "execution_count": 19,
   "id": "9bbcc82e",
   "metadata": {
    "execution": {
     "iopub.execute_input": "2024-05-07T18:48:13.881209Z",
     "iopub.status.busy": "2024-05-07T18:48:13.880832Z",
     "iopub.status.idle": "2024-05-07T18:48:13.899480Z",
     "shell.execute_reply": "2024-05-07T18:48:13.898711Z"
    },
    "papermill": {
     "duration": 0.03411,
     "end_time": "2024-05-07T18:48:13.901368",
     "exception": false,
     "start_time": "2024-05-07T18:48:13.867258",
     "status": "completed"
    },
    "tags": []
   },
   "outputs": [
    {
     "data": {
      "text/html": [
       "<div>\n",
       "<style scoped>\n",
       "    .dataframe tbody tr th:only-of-type {\n",
       "        vertical-align: middle;\n",
       "    }\n",
       "\n",
       "    .dataframe tbody tr th {\n",
       "        vertical-align: top;\n",
       "    }\n",
       "\n",
       "    .dataframe thead th {\n",
       "        text-align: right;\n",
       "    }\n",
       "</style>\n",
       "<table border=\"1\" class=\"dataframe\">\n",
       "  <thead>\n",
       "    <tr style=\"text-align: right;\">\n",
       "      <th></th>\n",
       "      <th>gender</th>\n",
       "      <th>age</th>\n",
       "      <th>hypertension</th>\n",
       "      <th>heart_disease</th>\n",
       "      <th>bmi</th>\n",
       "      <th>HbA1c_level</th>\n",
       "      <th>blood_glucose_level</th>\n",
       "      <th>smoking_history_current</th>\n",
       "      <th>smoking_history_ever</th>\n",
       "      <th>smoking_history_former</th>\n",
       "      <th>smoking_history_never</th>\n",
       "      <th>smoking_history_not current</th>\n",
       "    </tr>\n",
       "  </thead>\n",
       "  <tbody>\n",
       "    <tr>\n",
       "      <th>0</th>\n",
       "      <td>0</td>\n",
       "      <td>80.0</td>\n",
       "      <td>0</td>\n",
       "      <td>1</td>\n",
       "      <td>25.19</td>\n",
       "      <td>6.6</td>\n",
       "      <td>140</td>\n",
       "      <td>False</td>\n",
       "      <td>False</td>\n",
       "      <td>False</td>\n",
       "      <td>True</td>\n",
       "      <td>False</td>\n",
       "    </tr>\n",
       "    <tr>\n",
       "      <th>2</th>\n",
       "      <td>1</td>\n",
       "      <td>28.0</td>\n",
       "      <td>0</td>\n",
       "      <td>0</td>\n",
       "      <td>27.32</td>\n",
       "      <td>5.7</td>\n",
       "      <td>158</td>\n",
       "      <td>False</td>\n",
       "      <td>False</td>\n",
       "      <td>False</td>\n",
       "      <td>True</td>\n",
       "      <td>False</td>\n",
       "    </tr>\n",
       "    <tr>\n",
       "      <th>3</th>\n",
       "      <td>0</td>\n",
       "      <td>36.0</td>\n",
       "      <td>0</td>\n",
       "      <td>0</td>\n",
       "      <td>23.45</td>\n",
       "      <td>5.0</td>\n",
       "      <td>155</td>\n",
       "      <td>True</td>\n",
       "      <td>False</td>\n",
       "      <td>False</td>\n",
       "      <td>False</td>\n",
       "      <td>False</td>\n",
       "    </tr>\n",
       "    <tr>\n",
       "      <th>4</th>\n",
       "      <td>1</td>\n",
       "      <td>76.0</td>\n",
       "      <td>1</td>\n",
       "      <td>1</td>\n",
       "      <td>20.14</td>\n",
       "      <td>4.8</td>\n",
       "      <td>155</td>\n",
       "      <td>True</td>\n",
       "      <td>False</td>\n",
       "      <td>False</td>\n",
       "      <td>False</td>\n",
       "      <td>False</td>\n",
       "    </tr>\n",
       "    <tr>\n",
       "      <th>5</th>\n",
       "      <td>0</td>\n",
       "      <td>20.0</td>\n",
       "      <td>0</td>\n",
       "      <td>0</td>\n",
       "      <td>27.32</td>\n",
       "      <td>6.6</td>\n",
       "      <td>85</td>\n",
       "      <td>False</td>\n",
       "      <td>False</td>\n",
       "      <td>False</td>\n",
       "      <td>True</td>\n",
       "      <td>False</td>\n",
       "    </tr>\n",
       "    <tr>\n",
       "      <th>...</th>\n",
       "      <td>...</td>\n",
       "      <td>...</td>\n",
       "      <td>...</td>\n",
       "      <td>...</td>\n",
       "      <td>...</td>\n",
       "      <td>...</td>\n",
       "      <td>...</td>\n",
       "      <td>...</td>\n",
       "      <td>...</td>\n",
       "      <td>...</td>\n",
       "      <td>...</td>\n",
       "      <td>...</td>\n",
       "    </tr>\n",
       "    <tr>\n",
       "      <th>99992</th>\n",
       "      <td>0</td>\n",
       "      <td>26.0</td>\n",
       "      <td>0</td>\n",
       "      <td>0</td>\n",
       "      <td>34.34</td>\n",
       "      <td>6.5</td>\n",
       "      <td>160</td>\n",
       "      <td>False</td>\n",
       "      <td>False</td>\n",
       "      <td>False</td>\n",
       "      <td>True</td>\n",
       "      <td>False</td>\n",
       "    </tr>\n",
       "    <tr>\n",
       "      <th>99993</th>\n",
       "      <td>0</td>\n",
       "      <td>40.0</td>\n",
       "      <td>0</td>\n",
       "      <td>0</td>\n",
       "      <td>40.69</td>\n",
       "      <td>3.5</td>\n",
       "      <td>155</td>\n",
       "      <td>False</td>\n",
       "      <td>False</td>\n",
       "      <td>False</td>\n",
       "      <td>True</td>\n",
       "      <td>False</td>\n",
       "    </tr>\n",
       "    <tr>\n",
       "      <th>99997</th>\n",
       "      <td>1</td>\n",
       "      <td>66.0</td>\n",
       "      <td>0</td>\n",
       "      <td>0</td>\n",
       "      <td>27.83</td>\n",
       "      <td>5.7</td>\n",
       "      <td>155</td>\n",
       "      <td>False</td>\n",
       "      <td>False</td>\n",
       "      <td>True</td>\n",
       "      <td>False</td>\n",
       "      <td>False</td>\n",
       "    </tr>\n",
       "    <tr>\n",
       "      <th>99998</th>\n",
       "      <td>0</td>\n",
       "      <td>24.0</td>\n",
       "      <td>0</td>\n",
       "      <td>0</td>\n",
       "      <td>35.42</td>\n",
       "      <td>4.0</td>\n",
       "      <td>100</td>\n",
       "      <td>False</td>\n",
       "      <td>False</td>\n",
       "      <td>False</td>\n",
       "      <td>True</td>\n",
       "      <td>False</td>\n",
       "    </tr>\n",
       "    <tr>\n",
       "      <th>99999</th>\n",
       "      <td>0</td>\n",
       "      <td>57.0</td>\n",
       "      <td>0</td>\n",
       "      <td>0</td>\n",
       "      <td>22.43</td>\n",
       "      <td>6.6</td>\n",
       "      <td>90</td>\n",
       "      <td>True</td>\n",
       "      <td>False</td>\n",
       "      <td>False</td>\n",
       "      <td>False</td>\n",
       "      <td>False</td>\n",
       "    </tr>\n",
       "  </tbody>\n",
       "</table>\n",
       "<p>63247 rows × 12 columns</p>\n",
       "</div>"
      ],
      "text/plain": [
       "       gender   age  hypertension  heart_disease    bmi  HbA1c_level  \\\n",
       "0           0  80.0             0              1  25.19          6.6   \n",
       "2           1  28.0             0              0  27.32          5.7   \n",
       "3           0  36.0             0              0  23.45          5.0   \n",
       "4           1  76.0             1              1  20.14          4.8   \n",
       "5           0  20.0             0              0  27.32          6.6   \n",
       "...       ...   ...           ...            ...    ...          ...   \n",
       "99992       0  26.0             0              0  34.34          6.5   \n",
       "99993       0  40.0             0              0  40.69          3.5   \n",
       "99997       1  66.0             0              0  27.83          5.7   \n",
       "99998       0  24.0             0              0  35.42          4.0   \n",
       "99999       0  57.0             0              0  22.43          6.6   \n",
       "\n",
       "       blood_glucose_level  smoking_history_current  smoking_history_ever  \\\n",
       "0                      140                    False                 False   \n",
       "2                      158                    False                 False   \n",
       "3                      155                     True                 False   \n",
       "4                      155                     True                 False   \n",
       "5                       85                    False                 False   \n",
       "...                    ...                      ...                   ...   \n",
       "99992                  160                    False                 False   \n",
       "99993                  155                    False                 False   \n",
       "99997                  155                    False                 False   \n",
       "99998                  100                    False                 False   \n",
       "99999                   90                     True                 False   \n",
       "\n",
       "       smoking_history_former  smoking_history_never  \\\n",
       "0                       False                   True   \n",
       "2                       False                   True   \n",
       "3                       False                  False   \n",
       "4                       False                  False   \n",
       "5                       False                   True   \n",
       "...                       ...                    ...   \n",
       "99992                   False                   True   \n",
       "99993                   False                   True   \n",
       "99997                    True                  False   \n",
       "99998                   False                   True   \n",
       "99999                   False                  False   \n",
       "\n",
       "       smoking_history_not current  \n",
       "0                            False  \n",
       "2                            False  \n",
       "3                            False  \n",
       "4                            False  \n",
       "5                            False  \n",
       "...                            ...  \n",
       "99992                        False  \n",
       "99993                        False  \n",
       "99997                        False  \n",
       "99998                        False  \n",
       "99999                        False  \n",
       "\n",
       "[63247 rows x 12 columns]"
      ]
     },
     "execution_count": 19,
     "metadata": {},
     "output_type": "execute_result"
    }
   ],
   "source": [
    "x"
   ]
  },
  {
   "cell_type": "code",
   "execution_count": 20,
   "id": "bf667f61",
   "metadata": {
    "execution": {
     "iopub.execute_input": "2024-05-07T18:48:13.928695Z",
     "iopub.status.busy": "2024-05-07T18:48:13.928258Z",
     "iopub.status.idle": "2024-05-07T18:48:13.936643Z",
     "shell.execute_reply": "2024-05-07T18:48:13.935454Z"
    },
    "papermill": {
     "duration": 0.024894,
     "end_time": "2024-05-07T18:48:13.938965",
     "exception": false,
     "start_time": "2024-05-07T18:48:13.914071",
     "status": "completed"
    },
    "tags": []
   },
   "outputs": [
    {
     "data": {
      "text/plain": [
       "0        0\n",
       "2        0\n",
       "3        0\n",
       "4        0\n",
       "5        0\n",
       "        ..\n",
       "99992    0\n",
       "99993    0\n",
       "99997    0\n",
       "99998    0\n",
       "99999    0\n",
       "Name: diabetes, Length: 63247, dtype: int64"
      ]
     },
     "execution_count": 20,
     "metadata": {},
     "output_type": "execute_result"
    }
   ],
   "source": [
    "y"
   ]
  },
  {
   "cell_type": "code",
   "execution_count": 21,
   "id": "dc001e1a",
   "metadata": {
    "execution": {
     "iopub.execute_input": "2024-05-07T18:48:13.967086Z",
     "iopub.status.busy": "2024-05-07T18:48:13.966719Z",
     "iopub.status.idle": "2024-05-07T18:48:13.981815Z",
     "shell.execute_reply": "2024-05-07T18:48:13.980862Z"
    },
    "papermill": {
     "duration": 0.032104,
     "end_time": "2024-05-07T18:48:13.984176",
     "exception": false,
     "start_time": "2024-05-07T18:48:13.952072",
     "status": "completed"
    },
    "tags": []
   },
   "outputs": [],
   "source": [
    "x_train, x_test, y_train, y_test = train_test_split(x, y, test_size=0.3, random_state=42)"
   ]
  },
  {
   "cell_type": "markdown",
   "id": "ee897410",
   "metadata": {
    "papermill": {
     "duration": 0.01257,
     "end_time": "2024-05-07T18:48:14.009564",
     "exception": false,
     "start_time": "2024-05-07T18:48:13.996994",
     "status": "completed"
    },
    "tags": []
   },
   "source": [
    "# Model"
   ]
  },
  {
   "cell_type": "code",
   "execution_count": 22,
   "id": "b8f0e3ee",
   "metadata": {
    "execution": {
     "iopub.execute_input": "2024-05-07T18:48:14.037426Z",
     "iopub.status.busy": "2024-05-07T18:48:14.037030Z",
     "iopub.status.idle": "2024-05-07T18:48:14.041577Z",
     "shell.execute_reply": "2024-05-07T18:48:14.040453Z"
    },
    "papermill": {
     "duration": 0.020892,
     "end_time": "2024-05-07T18:48:14.043641",
     "exception": false,
     "start_time": "2024-05-07T18:48:14.022749",
     "status": "completed"
    },
    "tags": []
   },
   "outputs": [],
   "source": [
    "model = LogisticRegression(max_iter=1000)"
   ]
  },
  {
   "cell_type": "code",
   "execution_count": 23,
   "id": "eec0f772",
   "metadata": {
    "execution": {
     "iopub.execute_input": "2024-05-07T18:48:14.071357Z",
     "iopub.status.busy": "2024-05-07T18:48:14.070987Z",
     "iopub.status.idle": "2024-05-07T18:48:17.094329Z",
     "shell.execute_reply": "2024-05-07T18:48:17.093186Z"
    },
    "papermill": {
     "duration": 3.040673,
     "end_time": "2024-05-07T18:48:17.097208",
     "exception": false,
     "start_time": "2024-05-07T18:48:14.056535",
     "status": "completed"
    },
    "tags": []
   },
   "outputs": [
    {
     "data": {
      "text/html": [
       "<style>#sk-container-id-1 {color: black;background-color: white;}#sk-container-id-1 pre{padding: 0;}#sk-container-id-1 div.sk-toggleable {background-color: white;}#sk-container-id-1 label.sk-toggleable__label {cursor: pointer;display: block;width: 100%;margin-bottom: 0;padding: 0.3em;box-sizing: border-box;text-align: center;}#sk-container-id-1 label.sk-toggleable__label-arrow:before {content: \"▸\";float: left;margin-right: 0.25em;color: #696969;}#sk-container-id-1 label.sk-toggleable__label-arrow:hover:before {color: black;}#sk-container-id-1 div.sk-estimator:hover label.sk-toggleable__label-arrow:before {color: black;}#sk-container-id-1 div.sk-toggleable__content {max-height: 0;max-width: 0;overflow: hidden;text-align: left;background-color: #f0f8ff;}#sk-container-id-1 div.sk-toggleable__content pre {margin: 0.2em;color: black;border-radius: 0.25em;background-color: #f0f8ff;}#sk-container-id-1 input.sk-toggleable__control:checked~div.sk-toggleable__content {max-height: 200px;max-width: 100%;overflow: auto;}#sk-container-id-1 input.sk-toggleable__control:checked~label.sk-toggleable__label-arrow:before {content: \"▾\";}#sk-container-id-1 div.sk-estimator input.sk-toggleable__control:checked~label.sk-toggleable__label {background-color: #d4ebff;}#sk-container-id-1 div.sk-label input.sk-toggleable__control:checked~label.sk-toggleable__label {background-color: #d4ebff;}#sk-container-id-1 input.sk-hidden--visually {border: 0;clip: rect(1px 1px 1px 1px);clip: rect(1px, 1px, 1px, 1px);height: 1px;margin: -1px;overflow: hidden;padding: 0;position: absolute;width: 1px;}#sk-container-id-1 div.sk-estimator {font-family: monospace;background-color: #f0f8ff;border: 1px dotted black;border-radius: 0.25em;box-sizing: border-box;margin-bottom: 0.5em;}#sk-container-id-1 div.sk-estimator:hover {background-color: #d4ebff;}#sk-container-id-1 div.sk-parallel-item::after {content: \"\";width: 100%;border-bottom: 1px solid gray;flex-grow: 1;}#sk-container-id-1 div.sk-label:hover label.sk-toggleable__label {background-color: #d4ebff;}#sk-container-id-1 div.sk-serial::before {content: \"\";position: absolute;border-left: 1px solid gray;box-sizing: border-box;top: 0;bottom: 0;left: 50%;z-index: 0;}#sk-container-id-1 div.sk-serial {display: flex;flex-direction: column;align-items: center;background-color: white;padding-right: 0.2em;padding-left: 0.2em;position: relative;}#sk-container-id-1 div.sk-item {position: relative;z-index: 1;}#sk-container-id-1 div.sk-parallel {display: flex;align-items: stretch;justify-content: center;background-color: white;position: relative;}#sk-container-id-1 div.sk-item::before, #sk-container-id-1 div.sk-parallel-item::before {content: \"\";position: absolute;border-left: 1px solid gray;box-sizing: border-box;top: 0;bottom: 0;left: 50%;z-index: -1;}#sk-container-id-1 div.sk-parallel-item {display: flex;flex-direction: column;z-index: 1;position: relative;background-color: white;}#sk-container-id-1 div.sk-parallel-item:first-child::after {align-self: flex-end;width: 50%;}#sk-container-id-1 div.sk-parallel-item:last-child::after {align-self: flex-start;width: 50%;}#sk-container-id-1 div.sk-parallel-item:only-child::after {width: 0;}#sk-container-id-1 div.sk-dashed-wrapped {border: 1px dashed gray;margin: 0 0.4em 0.5em 0.4em;box-sizing: border-box;padding-bottom: 0.4em;background-color: white;}#sk-container-id-1 div.sk-label label {font-family: monospace;font-weight: bold;display: inline-block;line-height: 1.2em;}#sk-container-id-1 div.sk-label-container {text-align: center;}#sk-container-id-1 div.sk-container {/* jupyter's `normalize.less` sets `[hidden] { display: none; }` but bootstrap.min.css set `[hidden] { display: none !important; }` so we also need the `!important` here to be able to override the default hidden behavior on the sphinx rendered scikit-learn.org. See: https://github.com/scikit-learn/scikit-learn/issues/21755 */display: inline-block !important;position: relative;}#sk-container-id-1 div.sk-text-repr-fallback {display: none;}</style><div id=\"sk-container-id-1\" class=\"sk-top-container\"><div class=\"sk-text-repr-fallback\"><pre>LogisticRegression(max_iter=1000)</pre><b>In a Jupyter environment, please rerun this cell to show the HTML representation or trust the notebook. <br />On GitHub, the HTML representation is unable to render, please try loading this page with nbviewer.org.</b></div><div class=\"sk-container\" hidden><div class=\"sk-item\"><div class=\"sk-estimator sk-toggleable\"><input class=\"sk-toggleable__control sk-hidden--visually\" id=\"sk-estimator-id-1\" type=\"checkbox\" checked><label for=\"sk-estimator-id-1\" class=\"sk-toggleable__label sk-toggleable__label-arrow\">LogisticRegression</label><div class=\"sk-toggleable__content\"><pre>LogisticRegression(max_iter=1000)</pre></div></div></div></div></div>"
      ],
      "text/plain": [
       "LogisticRegression(max_iter=1000)"
      ]
     },
     "execution_count": 23,
     "metadata": {},
     "output_type": "execute_result"
    }
   ],
   "source": [
    "model.fit(x_train, y_train)"
   ]
  },
  {
   "cell_type": "code",
   "execution_count": 24,
   "id": "9626e912",
   "metadata": {
    "execution": {
     "iopub.execute_input": "2024-05-07T18:48:17.142857Z",
     "iopub.status.busy": "2024-05-07T18:48:17.142313Z",
     "iopub.status.idle": "2024-05-07T18:48:17.165142Z",
     "shell.execute_reply": "2024-05-07T18:48:17.164003Z"
    },
    "papermill": {
     "duration": 0.049078,
     "end_time": "2024-05-07T18:48:17.168102",
     "exception": false,
     "start_time": "2024-05-07T18:48:17.119024",
     "status": "completed"
    },
    "tags": []
   },
   "outputs": [
    {
     "data": {
      "text/plain": [
       "0.9474159739790387"
      ]
     },
     "execution_count": 24,
     "metadata": {},
     "output_type": "execute_result"
    }
   ],
   "source": [
    "model.score(x_train, y_train)"
   ]
  },
  {
   "cell_type": "code",
   "execution_count": 25,
   "id": "16b4c6ae",
   "metadata": {
    "execution": {
     "iopub.execute_input": "2024-05-07T18:48:17.213825Z",
     "iopub.status.busy": "2024-05-07T18:48:17.213277Z",
     "iopub.status.idle": "2024-05-07T18:48:17.225141Z",
     "shell.execute_reply": "2024-05-07T18:48:17.223961Z"
    },
    "papermill": {
     "duration": 0.038803,
     "end_time": "2024-05-07T18:48:17.228723",
     "exception": false,
     "start_time": "2024-05-07T18:48:17.189920",
     "status": "completed"
    },
    "tags": []
   },
   "outputs": [],
   "source": [
    "y_train_pred = model.predict(x_train)"
   ]
  },
  {
   "cell_type": "code",
   "execution_count": 26,
   "id": "ce4ad9c5",
   "metadata": {
    "execution": {
     "iopub.execute_input": "2024-05-07T18:48:17.276820Z",
     "iopub.status.busy": "2024-05-07T18:48:17.276258Z",
     "iopub.status.idle": "2024-05-07T18:48:17.297881Z",
     "shell.execute_reply": "2024-05-07T18:48:17.296737Z"
    },
    "papermill": {
     "duration": 0.049026,
     "end_time": "2024-05-07T18:48:17.300987",
     "exception": false,
     "start_time": "2024-05-07T18:48:17.251961",
     "status": "completed"
    },
    "tags": []
   },
   "outputs": [
    {
     "data": {
      "text/plain": [
       "0.9474159739790387"
      ]
     },
     "execution_count": 26,
     "metadata": {},
     "output_type": "execute_result"
    }
   ],
   "source": [
    "accuracy_score(y_train, y_train_pred)"
   ]
  },
  {
   "cell_type": "code",
   "execution_count": 27,
   "id": "3728de75",
   "metadata": {
    "execution": {
     "iopub.execute_input": "2024-05-07T18:48:17.347279Z",
     "iopub.status.busy": "2024-05-07T18:48:17.346900Z",
     "iopub.status.idle": "2024-05-07T18:48:17.371946Z",
     "shell.execute_reply": "2024-05-07T18:48:17.370795Z"
    },
    "papermill": {
     "duration": 0.051163,
     "end_time": "2024-05-07T18:48:17.374987",
     "exception": false,
     "start_time": "2024-05-07T18:48:17.323824",
     "status": "completed"
    },
    "tags": []
   },
   "outputs": [
    {
     "data": {
      "text/plain": [
       "0.9082464864132006"
      ]
     },
     "execution_count": 27,
     "metadata": {},
     "output_type": "execute_result"
    }
   ],
   "source": [
    "precision_score(y_train, y_train_pred, average=\"macro\")"
   ]
  },
  {
   "cell_type": "code",
   "execution_count": 28,
   "id": "9c61d244",
   "metadata": {
    "execution": {
     "iopub.execute_input": "2024-05-07T18:48:17.404456Z",
     "iopub.status.busy": "2024-05-07T18:48:17.403681Z",
     "iopub.status.idle": "2024-05-07T18:48:17.428530Z",
     "shell.execute_reply": "2024-05-07T18:48:17.427437Z"
    },
    "papermill": {
     "duration": 0.042356,
     "end_time": "2024-05-07T18:48:17.430977",
     "exception": false,
     "start_time": "2024-05-07T18:48:17.388621",
     "status": "completed"
    },
    "tags": []
   },
   "outputs": [
    {
     "data": {
      "text/plain": [
       "0.8144789650405178"
      ]
     },
     "execution_count": 28,
     "metadata": {},
     "output_type": "execute_result"
    }
   ],
   "source": [
    "recall_score(y_train, y_train_pred, average=\"macro\")"
   ]
  },
  {
   "cell_type": "code",
   "execution_count": 29,
   "id": "373fba5c",
   "metadata": {
    "execution": {
     "iopub.execute_input": "2024-05-07T18:48:17.461136Z",
     "iopub.status.busy": "2024-05-07T18:48:17.460343Z",
     "iopub.status.idle": "2024-05-07T18:48:17.484083Z",
     "shell.execute_reply": "2024-05-07T18:48:17.483200Z"
    },
    "papermill": {
     "duration": 0.040932,
     "end_time": "2024-05-07T18:48:17.486035",
     "exception": false,
     "start_time": "2024-05-07T18:48:17.445103",
     "status": "completed"
    },
    "tags": []
   },
   "outputs": [
    {
     "data": {
      "text/plain": [
       "0.8532788718857967"
      ]
     },
     "execution_count": 29,
     "metadata": {},
     "output_type": "execute_result"
    }
   ],
   "source": [
    "f1_score(y_train, y_train_pred, average=\"macro\")"
   ]
  },
  {
   "cell_type": "code",
   "execution_count": 30,
   "id": "0479ac19",
   "metadata": {
    "execution": {
     "iopub.execute_input": "2024-05-07T18:48:17.573933Z",
     "iopub.status.busy": "2024-05-07T18:48:17.572981Z",
     "iopub.status.idle": "2024-05-07T18:48:17.652050Z",
     "shell.execute_reply": "2024-05-07T18:48:17.650787Z"
    },
    "papermill": {
     "duration": 0.154331,
     "end_time": "2024-05-07T18:48:17.654317",
     "exception": false,
     "start_time": "2024-05-07T18:48:17.499986",
     "status": "completed"
    },
    "tags": []
   },
   "outputs": [
    {
     "name": "stdout",
     "output_type": "stream",
     "text": [
      "              precision    recall  f1-score   support\n",
      "\n",
      "           0       0.96      0.99      0.97     39226\n",
      "           1       0.86      0.64      0.74      5046\n",
      "\n",
      "    accuracy                           0.95     44272\n",
      "   macro avg       0.91      0.81      0.85     44272\n",
      "weighted avg       0.94      0.95      0.94     44272\n",
      "\n"
     ]
    }
   ],
   "source": [
    "print(classification_report(y_train, y_train_pred))"
   ]
  },
  {
   "cell_type": "code",
   "execution_count": 31,
   "id": "9ffe0ac8",
   "metadata": {
    "execution": {
     "iopub.execute_input": "2024-05-07T18:48:17.684155Z",
     "iopub.status.busy": "2024-05-07T18:48:17.683756Z",
     "iopub.status.idle": "2024-05-07T18:48:18.064648Z",
     "shell.execute_reply": "2024-05-07T18:48:18.063457Z"
    },
    "papermill": {
     "duration": 0.401549,
     "end_time": "2024-05-07T18:48:18.069983",
     "exception": false,
     "start_time": "2024-05-07T18:48:17.668434",
     "status": "completed"
    },
    "tags": []
   },
   "outputs": [
    {
     "data": {
      "image/png": "[encoded data removed]",
      "text/plain": [
       "<Figure size 480x480 with 2 Axes>"
      ]
     },
     "metadata": {},
     "output_type": "display_data"
    }
   ],
   "source": [
    "plt.matshow(confusion_matrix(y_train, y_train_pred), cmap=\"Greys\")\n",
    "plt.colorbar()\n",
    "plt.title('Confusion Matrix')\n",
    "plt.ylabel('Actual')\n",
    "plt.xlabel('Predicted')\n",
    "plt.show()"
   ]
  },
  {
   "cell_type": "code",
   "execution_count": 32,
   "id": "f6fbafb7",
   "metadata": {
    "execution": {
     "iopub.execute_input": "2024-05-07T18:48:18.101245Z",
     "iopub.status.busy": "2024-05-07T18:48:18.100858Z",
     "iopub.status.idle": "2024-05-07T18:48:18.111682Z",
     "shell.execute_reply": "2024-05-07T18:48:18.110489Z"
    },
    "papermill": {
     "duration": 0.029903,
     "end_time": "2024-05-07T18:48:18.114918",
     "exception": false,
     "start_time": "2024-05-07T18:48:18.085015",
     "status": "completed"
    },
    "tags": []
   },
   "outputs": [],
   "source": [
    "y_test_pred = model.predict(x_test)"
   ]
  },
  {
   "cell_type": "code",
   "execution_count": 33,
   "id": "7dcb9303",
   "metadata": {
    "execution": {
     "iopub.execute_input": "2024-05-07T18:48:18.167507Z",
     "iopub.status.busy": "2024-05-07T18:48:18.166922Z",
     "iopub.status.idle": "2024-05-07T18:48:18.179186Z",
     "shell.execute_reply": "2024-05-07T18:48:18.178098Z"
    },
    "papermill": {
     "duration": 0.042711,
     "end_time": "2024-05-07T18:48:18.182627",
     "exception": false,
     "start_time": "2024-05-07T18:48:18.139916",
     "status": "completed"
    },
    "tags": []
   },
   "outputs": [
    {
     "data": {
      "text/plain": [
       "0.9504084321475625"
      ]
     },
     "execution_count": 33,
     "metadata": {},
     "output_type": "execute_result"
    }
   ],
   "source": [
    "accuracy_score(y_test_pred, y_test)"
   ]
  },
  {
   "cell_type": "code",
   "execution_count": 34,
   "id": "38dac715",
   "metadata": {
    "execution": {
     "iopub.execute_input": "2024-05-07T18:48:18.233174Z",
     "iopub.status.busy": "2024-05-07T18:48:18.232723Z",
     "iopub.status.idle": "2024-05-07T18:48:18.247296Z",
     "shell.execute_reply": "2024-05-07T18:48:18.246534Z"
    },
    "papermill": {
     "duration": 0.041579,
     "end_time": "2024-05-07T18:48:18.249329",
     "exception": false,
     "start_time": "2024-05-07T18:48:18.207750",
     "status": "completed"
    },
    "tags": []
   },
   "outputs": [
    {
     "data": {
      "text/plain": [
       "0.8148971212424823"
      ]
     },
     "execution_count": 34,
     "metadata": {},
     "output_type": "execute_result"
    }
   ],
   "source": [
    "precision_score(y_test_pred, y_test, average=\"macro\")"
   ]
  },
  {
   "cell_type": "code",
   "execution_count": 35,
   "id": "85814a0a",
   "metadata": {
    "execution": {
     "iopub.execute_input": "2024-05-07T18:48:18.281869Z",
     "iopub.status.busy": "2024-05-07T18:48:18.281184Z",
     "iopub.status.idle": "2024-05-07T18:48:18.296183Z",
     "shell.execute_reply": "2024-05-07T18:48:18.295094Z"
    },
    "papermill": {
     "duration": 0.03412,
     "end_time": "2024-05-07T18:48:18.298461",
     "exception": false,
     "start_time": "2024-05-07T18:48:18.264341",
     "status": "completed"
    },
    "tags": []
   },
   "outputs": [
    {
     "data": {
      "text/plain": [
       "0.9032824161560633"
      ]
     },
     "execution_count": 35,
     "metadata": {},
     "output_type": "execute_result"
    }
   ],
   "source": [
    "recall_score(y_test_pred, y_test, average=\"macro\")"
   ]
  },
  {
   "cell_type": "code",
   "execution_count": 36,
   "id": "6d4dffc4",
   "metadata": {
    "execution": {
     "iopub.execute_input": "2024-05-07T18:48:18.330528Z",
     "iopub.status.busy": "2024-05-07T18:48:18.330123Z",
     "iopub.status.idle": "2024-05-07T18:48:18.345085Z",
     "shell.execute_reply": "2024-05-07T18:48:18.343913Z"
    },
    "papermill": {
     "duration": 0.034004,
     "end_time": "2024-05-07T18:48:18.347379",
     "exception": false,
     "start_time": "2024-05-07T18:48:18.313375",
     "status": "completed"
    },
    "tags": []
   },
   "outputs": [
    {
     "data": {
      "text/plain": [
       "0.8520278903473544"
      ]
     },
     "execution_count": 36,
     "metadata": {},
     "output_type": "execute_result"
    }
   ],
   "source": [
    "f1_score(y_test_pred, y_test, average=\"macro\")"
   ]
  },
  {
   "cell_type": "code",
   "execution_count": 37,
   "id": "5691f329",
   "metadata": {
    "execution": {
     "iopub.execute_input": "2024-05-07T18:48:18.380695Z",
     "iopub.status.busy": "2024-05-07T18:48:18.379424Z",
     "iopub.status.idle": "2024-05-07T18:48:18.419479Z",
     "shell.execute_reply": "2024-05-07T18:48:18.418213Z"
    },
    "papermill": {
     "duration": 0.059054,
     "end_time": "2024-05-07T18:48:18.421833",
     "exception": false,
     "start_time": "2024-05-07T18:48:18.362779",
     "status": "completed"
    },
    "tags": []
   },
   "outputs": [
    {
     "name": "stdout",
     "output_type": "stream",
     "text": [
      "              precision    recall  f1-score   support\n",
      "\n",
      "           0       0.96      0.99      0.97     16984\n",
      "           1       0.85      0.64      0.73      1991\n",
      "\n",
      "    accuracy                           0.95     18975\n",
      "   macro avg       0.90      0.81      0.85     18975\n",
      "weighted avg       0.95      0.95      0.95     18975\n",
      "\n"
     ]
    }
   ],
   "source": [
    "print(classification_report(y_test, y_test_pred))"
   ]
  },
  {
   "cell_type": "code",
   "execution_count": 38,
   "id": "93ab4079",
   "metadata": {
    "execution": {
     "iopub.execute_input": "2024-05-07T18:48:18.454999Z",
     "iopub.status.busy": "2024-05-07T18:48:18.454335Z",
     "iopub.status.idle": "2024-05-07T18:48:18.825016Z",
     "shell.execute_reply": "2024-05-07T18:48:18.823832Z"
    },
    "papermill": {
     "duration": 0.390524,
     "end_time": "2024-05-07T18:48:18.828044",
     "exception": false,
     "start_time": "2024-05-07T18:48:18.437520",
     "status": "completed"
    },
    "tags": []
   },
   "outputs": [
    {
     "data": {
      "image/png": "[encoded data removed]",
      "text/plain": [
       "<Figure size 480x480 with 2 Axes>"
      ]
     },
     "metadata": {},
     "output_type": "display_data"
    }
   ],
   "source": [
    "plt.matshow(confusion_matrix(y_test, y_test_pred), cmap=\"Greys\")\n",
    "plt.colorbar()\n",
    "plt.title('Confusion Matrix')\n",
    "plt.ylabel('Actual')\n",
    "plt.xlabel('Predicted')\n",
    "plt.show()"
   ]
  },
  {
   "cell_type": "code",
   "execution_count": 39,
   "id": "f39c076b",
   "metadata": {
    "execution": {
     "iopub.execute_input": "2024-05-07T18:48:18.872161Z",
     "iopub.status.busy": "2024-05-07T18:48:18.871424Z",
     "iopub.status.idle": "2024-05-07T18:48:20.184648Z",
     "shell.execute_reply": "2024-05-07T18:48:20.183282Z"
    },
    "papermill": {
     "duration": 1.342509,
     "end_time": "2024-05-07T18:48:20.194826",
     "exception": false,
     "start_time": "2024-05-07T18:48:18.852317",
     "status": "completed"
    },
    "tags": []
   },
   "outputs": [
    {
     "name": "stderr",
     "output_type": "stream",
     "text": [
      "2024-05-07 18:48:18,879 - pyswarms.single.global_best - INFO - Optimize for 1000 iters with {'c1': 0.5, 'c2': 0.3, 'w': 0.9}\n",
      "pyswarms.single.global_best: 100%|██████████|1000/1000, best_cost=1.81e-44\n",
      "2024-05-07 18:48:20,178 - pyswarms.single.global_best - INFO - Optimization finished | best cost: 1.8065105529165853e-44, best pos: [ 1.03736446e-22 -8.54625955e-23]\n"
     ]
    },
    {
     "name": "stdout",
     "output_type": "stream",
     "text": [
      "1.8065105529165853e-44 [ 1.03736446e-22 -8.54625955e-23]\n"
     ]
    }
   ],
   "source": [
    "options = {\"c1\": 0.5, \"c2\": 0.3, \"w\": 0.9}\n",
    "optimizer = ps.single.GlobalBestPSO(n_particles=10, dimensions=2, options=options)\n",
    "cost, pos = optimizer.optimize(fx.sphere, iters=1000)\n",
    "print(cost, pos)"
   ]
  },
  {
   "cell_type": "code",
   "execution_count": 40,
   "id": "63d8751d",
   "metadata": {
    "execution": {
     "iopub.execute_input": "2024-05-07T18:48:20.364537Z",
     "iopub.status.busy": "2024-05-07T18:48:20.364110Z",
     "iopub.status.idle": "2024-05-07T18:48:20.698459Z",
     "shell.execute_reply": "2024-05-07T18:48:20.697572Z"
    },
    "papermill": {
     "duration": 0.421839,
     "end_time": "2024-05-07T18:48:20.700886",
     "exception": false,
     "start_time": "2024-05-07T18:48:20.279047",
     "status": "completed"
    },
    "tags": []
   },
   "outputs": [
    {
     "data": {
      "text/plain": [
       "<Axes: title={'center': 'Cost History'}, xlabel='Iterations', ylabel='Cost'>"
      ]
     },
     "execution_count": 40,
     "metadata": {},
     "output_type": "execute_result"
    },
    {
     "data": {
      "image/png": "[encoded data removed]",
      "text/plain": [
       "<Figure size 1000x800 with 1 Axes>"
      ]
     },
     "metadata": {},
     "output_type": "display_data"
    }
   ],
   "source": [
    "plot_cost_history(optimizer.cost_history)"
   ]
  },
  {
   "cell_type": "code",
   "execution_count": null,
   "id": "594840fb",
   "metadata": {
    "papermill": {
     "duration": 0.079338,
     "end_time": "2024-05-07T18:48:20.860034",
     "exception": false,
     "start_time": "2024-05-07T18:48:20.780696",
     "status": "completed"
    },
    "tags": []
   },
   "outputs": [],
   "source": []
  }
 ],
 "metadata": {
  "kaggle": {
   "accelerator": "none",
   "dataSources": [
    {
     "datasetId": 3102947,
     "sourceId": 5344155,
     "sourceType": "datasetVersion"
    }
   ],
   "dockerImageVersionId": 30698,
   "isGpuEnabled": false,
   "isInternetEnabled": true,
   "language": "python",
   "sourceType": "notebook"
  },
  "kernelspec": {
   "display_name": "Python 3",
   "language": "python",
   "name": "python3"
  },
  "language_info": {
   "codemirror_mode": {
    "name": "ipython",
    "version": 3
   },
   "file_extension": ".py",
   "mimetype": "text/x-python",
   "name": "python",
   "nbconvert_exporter": "python",
   "pygments_lexer": "ipython3",
   "version": "3.10.13"
  },
  "papermill": {
   "default_parameters": {},
   "duration": 31.508297,
   "end_time": "2024-05-07T18:48:21.661795",
   "environment_variables": {},
   "exception": null,
   "input_path": "__notebook__.ipynb",
   "output_path": "__notebook__.ipynb",
   "parameters": {},
   "start_time": "2024-05-07T18:47:50.153498",
   "version": "2.5.0"
  }
 },
 "nbformat": 4,
 "nbformat_minor": 5
}
