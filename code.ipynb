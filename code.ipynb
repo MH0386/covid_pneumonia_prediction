{
 "cells": [
  {
   "cell_type": "code",
   "execution_count": 3,
   "id": "2e80fd57",
   "metadata": {
    "execution": {
     "iopub.execute_input": "2024-05-21T18:49:35.847371Z",
     "iopub.status.busy": "2024-05-21T18:49:35.846583Z",
     "iopub.status.idle": "2024-05-21T18:49:37.850300Z",
     "shell.execute_reply": "2024-05-21T18:49:37.849171Z"
    },
    "id": "NEZ1UI9IDsnm",
    "papermill": {
     "duration": 2.028942,
     "end_time": "2024-05-21T18:49:37.853494",
     "exception": false,
     "start_time": "2024-05-21T18:49:35.824552",
     "status": "completed"
    },
    "tags": []
   },
   "outputs": [],
   "source": [
    "import os\n",
    "import cv2\n",
    "import sys\n",
    "import numpy as np\n",
    "import matplotlib.pyplot as plt\n",
    "import random\n",
    "from pathlib import Path\n",
    "from collections import Counter\n",
    "from sklearn.model_selection import train_test_split\n",
    "from sklearn.metrics import (\n",
    "    f1_score,\n",
    "    precision_score,\n",
    "    recall_score,\n",
    "    classification_report,\n",
    ")"
   ]
  },
  {
   "cell_type": "markdown",
   "id": "2968e8f9",
   "metadata": {
    "papermill": {
     "duration": 0.021421,
     "end_time": "2024-05-21T18:49:37.902018",
     "exception": false,
     "start_time": "2024-05-21T18:49:37.880597",
     "status": "completed"
    },
    "tags": []
   },
   "source": [
    "# Data\n"
   ]
  },
  {
   "cell_type": "code",
   "execution_count": 4,
   "id": "f5f01f3f",
   "metadata": {
    "execution": {
     "iopub.execute_input": "2024-05-21T18:49:37.948576Z",
     "iopub.status.busy": "2024-05-21T18:49:37.947986Z",
     "iopub.status.idle": "2024-05-21T18:49:37.961666Z",
     "shell.execute_reply": "2024-05-21T18:49:37.959763Z"
    },
    "id": "jC3ZMByRDsnn",
    "papermill": {
     "duration": 0.042098,
     "end_time": "2024-05-21T18:49:37.965210",
     "exception": false,
     "start_time": "2024-05-21T18:49:37.923112",
     "status": "completed"
    },
    "tags": []
   },
   "outputs": [],
   "source": [
    "path = Path(\n",
    "    \"/kaggle/input/covid-wwo-pneumonia-chest-xray/Data\"\n",
    "    if os.path.exists(\"/kaggle/input/covid-wwo-pneumonia-chest-xray/Data\")\n",
    "    else \"Data\"\n",
    ")\n",
    "\n",
    "covid_without_PNEUMONIA_train_path = path / \"train\" / \"covid_without_PNEUMONIA\"\n",
    "covid_with_PNEUMONIA_train_path = path / \"train\" / \"covid_with_PNEUMONIA\"\n",
    "\n",
    "covid_without_PNEUMONIA_test_path = path / \"test\" / \"covid_without_PNEUMONIA\"\n",
    "covid_with_PNEUMONIA_test_path = path / \"test\" / \"covid_with_PNEUMONIA\""
   ]
  },
  {
   "cell_type": "code",
   "execution_count": 5,
   "id": "8513ba7b",
   "metadata": {
    "execution": {
     "iopub.execute_input": "2024-05-21T18:49:38.011495Z",
     "iopub.status.busy": "2024-05-21T18:49:38.010523Z",
     "iopub.status.idle": "2024-05-21T18:49:38.016709Z",
     "shell.execute_reply": "2024-05-21T18:49:38.015431Z"
    },
    "id": "GolhIYqADsnn",
    "papermill": {
     "duration": 0.033147,
     "end_time": "2024-05-21T18:49:38.019809",
     "exception": false,
     "start_time": "2024-05-21T18:49:37.986662",
     "status": "completed"
    },
    "tags": []
   },
   "outputs": [],
   "source": [
    "covid_without_PNEUMONIA_path = [\n",
    "    covid_without_PNEUMONIA_train_path,\n",
    "    covid_without_PNEUMONIA_test_path,\n",
    "]\n",
    "\n",
    "covid_with_PNEUMONIA_path = [\n",
    "    covid_with_PNEUMONIA_train_path,\n",
    "    covid_with_PNEUMONIA_test_path,\n",
    "]"
   ]
  },
  {
   "cell_type": "code",
   "execution_count": 6,
   "id": "a3c7fd3d",
   "metadata": {
    "execution": {
     "iopub.execute_input": "2024-05-21T18:49:38.068804Z",
     "iopub.status.busy": "2024-05-21T18:49:38.068296Z",
     "iopub.status.idle": "2024-05-21T18:49:38.073657Z",
     "shell.execute_reply": "2024-05-21T18:49:38.072533Z"
    },
    "id": "dVIDAXnsDsnn",
    "papermill": {
     "duration": 0.03043,
     "end_time": "2024-05-21T18:49:38.076105",
     "exception": false,
     "start_time": "2024-05-21T18:49:38.045675",
     "status": "completed"
    },
    "tags": []
   },
   "outputs": [],
   "source": [
    "np.random.seed(42)\n",
    "random.seed(42)"
   ]
  },
  {
   "cell_type": "code",
   "execution_count": 7,
   "id": "387a004a",
   "metadata": {
    "execution": {
     "iopub.execute_input": "2024-05-21T18:49:38.121690Z",
     "iopub.status.busy": "2024-05-21T18:49:38.120799Z",
     "iopub.status.idle": "2024-05-21T18:49:38.126655Z",
     "shell.execute_reply": "2024-05-21T18:49:38.125493Z"
    },
    "id": "y_ltDJ0KDsnn",
    "papermill": {
     "duration": 0.032602,
     "end_time": "2024-05-21T18:49:38.129241",
     "exception": false,
     "start_time": "2024-05-21T18:49:38.096639",
     "status": "completed"
    },
    "tags": []
   },
   "outputs": [],
   "source": [
    "label2category = {\"covid_without_PNEUMONIA\": 0, \"covid_with_PNEUMONIA\": 1}\n",
    "category2label = {0: \"covid_without_PNEUMONIA\", 1: \"covid_with_PNEUMONIA\"}"
   ]
  },
  {
   "cell_type": "code",
   "execution_count": 8,
   "id": "48e16957",
   "metadata": {
    "execution": {
     "iopub.execute_input": "2024-05-21T18:49:38.173237Z",
     "iopub.status.busy": "2024-05-21T18:49:38.172768Z",
     "iopub.status.idle": "2024-05-21T18:49:38.250869Z",
     "shell.execute_reply": "2024-05-21T18:49:38.249666Z"
    },
    "id": "8e7NRKRPDsno",
    "papermill": {
     "duration": 0.10399,
     "end_time": "2024-05-21T18:49:38.253579",
     "exception": false,
     "start_time": "2024-05-21T18:49:38.149589",
     "status": "completed"
    },
    "tags": []
   },
   "outputs": [],
   "source": [
    "data = []\n",
    "\n",
    "for path in covid_without_PNEUMONIA_path:\n",
    "    for img in path.glob(\"*.jpeg\"):\n",
    "        data.append({\"img_path\": str(img), \"label\": \"covid_without_PNEUMONIA\"})\n",
    "\n",
    "for path in covid_with_PNEUMONIA_path:\n",
    "    for img in path.glob(\"*.jpeg\"):\n",
    "        data.append({\"img_path\": str(img), \"label\": \"covid_with_PNEUMONIA\"})"
   ]
  },
  {
   "cell_type": "code",
   "execution_count": 9,
   "id": "0069de66",
   "metadata": {
    "execution": {
     "iopub.execute_input": "2024-05-21T18:49:38.297564Z",
     "iopub.status.busy": "2024-05-21T18:49:38.296746Z",
     "iopub.status.idle": "2024-05-21T18:49:38.302515Z",
     "shell.execute_reply": "2024-05-21T18:49:38.301579Z"
    },
    "id": "8miLUe0GDsno",
    "papermill": {
     "duration": 0.029458,
     "end_time": "2024-05-21T18:49:38.304609",
     "exception": false,
     "start_time": "2024-05-21T18:49:38.275151",
     "status": "completed"
    },
    "tags": []
   },
   "outputs": [],
   "source": [
    "def counter_label(data=None, key=None, index=None):\n",
    "    label = []\n",
    "    for value in data:\n",
    "        label.append(value[key])\n",
    "    return Counter(label)"
   ]
  },
  {
   "cell_type": "code",
   "execution_count": 10,
   "id": "62e41f01",
   "metadata": {
    "execution": {
     "iopub.execute_input": "2024-05-21T18:49:38.349056Z",
     "iopub.status.busy": "2024-05-21T18:49:38.348429Z",
     "iopub.status.idle": "2024-05-21T18:49:38.601866Z",
     "shell.execute_reply": "2024-05-21T18:49:38.600467Z"
    },
    "id": "-VI6UQIYDsno",
    "outputId": "9d254c9d-f0ea-49da-a19c-cfd893db995c",
    "papermill": {
     "duration": 0.279387,
     "end_time": "2024-05-21T18:49:38.604778",
     "exception": false,
     "start_time": "2024-05-21T18:49:38.325391",
     "status": "completed"
    },
    "tags": []
   },
   "outputs": [
    {
     "data": {
      "image/png": "[encoded data removed]",
      "text/plain": [
       "<Figure size 640x480 with 1 Axes>"
      ]
     },
     "metadata": {},
     "output_type": "display_data"
    }
   ],
   "source": [
    "img_l_counter = counter_label(data, \"label\")\n",
    "keys = img_l_counter.keys()\n",
    "values = img_l_counter.values()\n",
    "plt.bar(keys, values)\n",
    "plt.show()"
   ]
  },
  {
   "cell_type": "code",
   "execution_count": 11,
   "id": "403bf242",
   "metadata": {
    "execution": {
     "iopub.execute_input": "2024-05-21T18:49:38.648865Z",
     "iopub.status.busy": "2024-05-21T18:49:38.648466Z",
     "iopub.status.idle": "2024-05-21T18:49:43.883007Z",
     "shell.execute_reply": "2024-05-21T18:49:43.882067Z"
    },
    "id": "ce_L_VjtDsno",
    "outputId": "0a2993c8-e5fa-4518-e7c1-7138fac48302",
    "papermill": {
     "duration": 5.26642,
     "end_time": "2024-05-21T18:49:43.891879",
     "exception": false,
     "start_time": "2024-05-21T18:49:38.625459",
     "status": "completed"
    },
    "tags": []
   },
   "outputs": [
    {
     "data": {
      "text/plain": [
       "<Figure size 2000x700 with 0 Axes>"
      ]
     },
     "metadata": {},
     "output_type": "display_data"
    }
   ],
   "source": [
    "plt.figure(figsize=(20, 7))\n",
    "\n",
    "for i, data_ in enumerate(data[:10]):\n",
    "    path, label = data_[\"img_path\"], data_[\"label\"]\n",
    "    plt.subplot(2, 5, i + 1)\n",
    "    img = cv2.imread(path)\n",
    "    plt.imshow(img)\n",
    "    plt.xlabel(label)\n",
    "\n",
    "plt.show()"
   ]
  },
  {
   "cell_type": "code",
   "execution_count": 12,
   "id": "015ead1d",
   "metadata": {
    "execution": {
     "iopub.execute_input": "2024-05-21T18:49:43.957169Z",
     "iopub.status.busy": "2024-05-21T18:49:43.956401Z",
     "iopub.status.idle": "2024-05-21T18:49:43.962622Z",
     "shell.execute_reply": "2024-05-21T18:49:43.961592Z"
    },
    "papermill": {
     "duration": 0.042776,
     "end_time": "2024-05-21T18:49:43.965071",
     "exception": false,
     "start_time": "2024-05-21T18:49:43.922295",
     "status": "completed"
    },
    "tags": []
   },
   "outputs": [],
   "source": [
    "def rotate(image, angle=90, scale=1.0):\n",
    "    # Get the dimensions of the image\n",
    "    (h, w) = image.shape[:2]\n",
    "    # Compute the center of the image\n",
    "    center = (w / 2, h / 2)\n",
    "    # Perform the rotation\n",
    "    M = cv2.getRotationMatrix2D(center, angle, scale)\n",
    "    rotated = cv2.warpAffine(image, M, (w, h))\n",
    "    return rotated"
   ]
  },
  {
   "cell_type": "code",
   "execution_count": 13,
   "id": "467862fa",
   "metadata": {
    "execution": {
     "iopub.execute_input": "2024-05-21T18:49:44.029418Z",
     "iopub.status.busy": "2024-05-21T18:49:44.028698Z",
     "iopub.status.idle": "2024-05-21T18:49:44.033719Z",
     "shell.execute_reply": "2024-05-21T18:49:44.032895Z"
    },
    "papermill": {
     "duration": 0.04024,
     "end_time": "2024-05-21T18:49:44.036145",
     "exception": false,
     "start_time": "2024-05-21T18:49:43.995905",
     "status": "completed"
    },
    "tags": []
   },
   "outputs": [],
   "source": [
    "def flip(image, flipCode=0):\n",
    "    # Flip the image horizontally, vertically, or both\n",
    "    # flipCode = 0: flip vertically\n",
    "    # flipCode > 0: flip horizontally\n",
    "    # flipCode < 0: flip vertically and horizontally\n",
    "    flipped = cv2.flip(image, flipCode)\n",
    "    return flipped"
   ]
  },
  {
   "cell_type": "code",
   "execution_count": 14,
   "id": "52fcc1ab",
   "metadata": {
    "execution": {
     "iopub.execute_input": "2024-05-21T18:49:44.099922Z",
     "iopub.status.busy": "2024-05-21T18:49:44.099192Z",
     "iopub.status.idle": "2024-05-21T18:49:56.035826Z",
     "shell.execute_reply": "2024-05-21T18:49:56.034510Z"
    },
    "id": "7FmwJTLMDsnp",
    "outputId": "b8b576c2-fc8d-47c2-b610-3ff0df1bb99c",
    "papermill": {
     "duration": 11.97174,
     "end_time": "2024-05-21T18:49:56.038860",
     "exception": false,
     "start_time": "2024-05-21T18:49:44.067120",
     "status": "completed"
    },
    "tags": []
   },
   "outputs": [
    {
     "name": "stdout",
     "output_type": "stream",
     "text": [
      "CPU times: total: 0 ns\n",
      "Wall time: 0 ns\n"
     ]
    }
   ],
   "source": [
    "%%time\n",
    "\n",
    "images_array = []\n",
    "images_label = []\n",
    "\n",
    "IMG_SIZE = (100, 100)\n",
    "\n",
    "for data_ in data:\n",
    "    category = label2category[data_[\"label\"]]\n",
    "    img = cv2.imread(data_[\"img_path\"])\n",
    "    if category == 0:\n",
    "        random_angle = random.choice([90, 180, 270])\n",
    "        random_flip = random.choice([-1, 0, 1])\n",
    "        for i in range(2):\n",
    "            img = rotate(img, angle=random_angle)\n",
    "            img = flip(img, flipCode=random_flip)\n",
    "            img = cv2.resize(img, IMG_SIZE)\n",
    "            images_array.append(img)\n",
    "            images_label.append(data_[\"label\"])\n",
    "    else:\n",
    "        img = cv2.resize(img, IMG_SIZE)\n",
    "        images_array.append(img)\n",
    "        images_label.append(data_[\"label\"])"
   ]
  },
  {
   "cell_type": "code",
   "execution_count": 15,
   "id": "efab243b",
   "metadata": {
    "execution": {
     "iopub.execute_input": "2024-05-21T18:49:56.102954Z",
     "iopub.status.busy": "2024-05-21T18:49:56.102515Z",
     "iopub.status.idle": "2024-05-21T18:49:56.110294Z",
     "shell.execute_reply": "2024-05-21T18:49:56.109408Z"
    },
    "papermill": {
     "duration": 0.043016,
     "end_time": "2024-05-21T18:49:56.112582",
     "exception": false,
     "start_time": "2024-05-21T18:49:56.069566",
     "status": "completed"
    },
    "tags": []
   },
   "outputs": [
    {
     "data": {
      "text/plain": [
       "array([], dtype=float64)"
      ]
     },
     "execution_count": 15,
     "metadata": {},
     "output_type": "execute_result"
    }
   ],
   "source": [
    "np.unique(images_label)"
   ]
  },
  {
   "cell_type": "code",
   "execution_count": 16,
   "id": "789cb20a",
   "metadata": {
    "execution": {
     "iopub.execute_input": "2024-05-21T18:49:56.174837Z",
     "iopub.status.busy": "2024-05-21T18:49:56.174431Z",
     "iopub.status.idle": "2024-05-21T18:49:56.445233Z",
     "shell.execute_reply": "2024-05-21T18:49:56.443854Z"
    },
    "papermill": {
     "duration": 0.304995,
     "end_time": "2024-05-21T18:49:56.447907",
     "exception": false,
     "start_time": "2024-05-21T18:49:56.142912",
     "status": "completed"
    },
    "tags": []
   },
   "outputs": [
    {
     "data": {
      "image/png": "[encoded data removed]",
      "text/plain": [
       "<Figure size 640x480 with 1 Axes>"
      ]
     },
     "metadata": {},
     "output_type": "display_data"
    }
   ],
   "source": [
    "# plot number of samples in each class\n",
    "\n",
    "# Assuming 'data' is your numpy array with class labels\n",
    "classes, counts = np.unique(images_label, return_counts=True)\n",
    "plt.bar(classes, counts)\n",
    "plt.xlabel(\"Class\")\n",
    "plt.ylabel(\"Number of samples\")\n",
    "plt.title(\"Number of samples in each class\")\n",
    "plt.show()"
   ]
  },
  {
   "cell_type": "code",
   "execution_count": 17,
   "id": "2ce17845",
   "metadata": {
    "execution": {
     "iopub.execute_input": "2024-05-21T18:49:56.514145Z",
     "iopub.status.busy": "2024-05-21T18:49:56.512929Z",
     "iopub.status.idle": "2024-05-21T18:49:56.526913Z",
     "shell.execute_reply": "2024-05-21T18:49:56.525175Z"
    },
    "id": "88u8iHWGDsnp",
    "outputId": "caaf473a-c682-4791-dbdb-c10e44bd9abb",
    "papermill": {
     "duration": 0.050668,
     "end_time": "2024-05-21T18:49:56.529875",
     "exception": false,
     "start_time": "2024-05-21T18:49:56.479207",
     "status": "completed"
    },
    "tags": []
   },
   "outputs": [
    {
     "name": "stdout",
     "output_type": "stream",
     "text": [
      "shape of images array: (0,)\n",
      "shape of images label: (0,)\n"
     ]
    }
   ],
   "source": [
    "images_array = np.array(images_array)\n",
    "images_label = np.array(images_label)\n",
    "\n",
    "print(\"shape of images array: {}\".format(images_array.shape))\n",
    "print(\"shape of images label: {}\".format(images_label.shape))"
   ]
  },
  {
   "cell_type": "code",
   "execution_count": 18,
   "id": "604f7cb7",
   "metadata": {
    "execution": {
     "iopub.execute_input": "2024-05-21T18:49:56.595751Z",
     "iopub.status.busy": "2024-05-21T18:49:56.595329Z",
     "iopub.status.idle": "2024-05-21T18:49:58.500024Z",
     "shell.execute_reply": "2024-05-21T18:49:58.498824Z"
    },
    "id": "_bKNmyh9Gv8K",
    "outputId": "c6a00070-11c2-45a3-831c-378e0b5d658a",
    "papermill": {
     "duration": 1.944728,
     "end_time": "2024-05-21T18:49:58.506990",
     "exception": false,
     "start_time": "2024-05-21T18:49:56.562262",
     "status": "completed"
    },
    "tags": []
   },
   "outputs": [
    {
     "data": {
      "text/plain": [
       "<Figure size 2000x700 with 0 Axes>"
      ]
     },
     "metadata": {},
     "output_type": "display_data"
    }
   ],
   "source": [
    "plt.figure(figsize=(20, 7))\n",
    "\n",
    "for i, data_ in enumerate(images_array[:10]):\n",
    "    plt.subplot(2, 5, i + 1)\n",
    "    plt.imshow(data_)\n",
    "    plt.xlabel(images_label[i])\n",
    "\n",
    "plt.show()"
   ]
  },
  {
   "cell_type": "code",
   "execution_count": 19,
   "id": "67d526a0",
   "metadata": {
    "execution": {
     "iopub.execute_input": "2024-05-21T18:49:58.587534Z",
     "iopub.status.busy": "2024-05-21T18:49:58.586479Z",
     "iopub.status.idle": "2024-05-21T18:49:58.591661Z",
     "shell.execute_reply": "2024-05-21T18:49:58.590752Z"
    },
    "papermill": {
     "duration": 0.047411,
     "end_time": "2024-05-21T18:49:58.594033",
     "exception": false,
     "start_time": "2024-05-21T18:49:58.546622",
     "status": "completed"
    },
    "tags": []
   },
   "outputs": [],
   "source": [
    "images_label = np.where(images_label == \"covid_without_PNEUMONIA\", 0, 1)"
   ]
  },
  {
   "cell_type": "markdown",
   "id": "dcbca8b6",
   "metadata": {
    "papermill": {
     "duration": 0.039772,
     "end_time": "2024-05-21T18:49:58.672181",
     "exception": false,
     "start_time": "2024-05-21T18:49:58.632409",
     "status": "completed"
    },
    "tags": []
   },
   "source": [
    "# Feature Extraction\n"
   ]
  },
  {
   "cell_type": "code",
   "execution_count": 20,
   "id": "e134f7f8",
   "metadata": {
    "execution": {
     "iopub.execute_input": "2024-05-21T18:49:58.823793Z",
     "iopub.status.busy": "2024-05-21T18:49:58.822990Z",
     "iopub.status.idle": "2024-05-21T18:49:58.832556Z",
     "shell.execute_reply": "2024-05-21T18:49:58.831007Z"
    },
    "id": "f8mXvnR_MU4M",
    "papermill": {
     "duration": 0.121736,
     "end_time": "2024-05-21T18:49:58.835522",
     "exception": false,
     "start_time": "2024-05-21T18:49:58.713786",
     "status": "completed"
    },
    "tags": []
   },
   "outputs": [],
   "source": [
    "def calculate_centroid(block):\n",
    "    \"\"\"Calculate the centroid of a 3D matrix\"\"\"\n",
    "    rows, cols, dep = block.shape\n",
    "    x_centroid = 0.0\n",
    "    y_centroid = 0.0\n",
    "    z_centroid = 0.0\n",
    "    for i in range(rows):\n",
    "        for j in range(cols):\n",
    "            for k in range(dep):\n",
    "                x_centroid += i * block[i, j, k]\n",
    "                y_centroid += j * block[i, j, k]\n",
    "                z_centroid += k * block[i, j, k]\n",
    "    total = np.sum(block)\n",
    "    x_centroid = x_centroid / total\n",
    "    y_centroid = y_centroid / total\n",
    "    z_centroid = z_centroid / total\n",
    "    return x_centroid, y_centroid, z_centroid"
   ]
  },
  {
   "cell_type": "code",
   "execution_count": 21,
   "id": "758588dc",
   "metadata": {
    "execution": {
     "iopub.execute_input": "2024-05-21T18:49:58.914469Z",
     "iopub.status.busy": "2024-05-21T18:49:58.914027Z",
     "iopub.status.idle": "2024-05-21T18:49:58.923167Z",
     "shell.execute_reply": "2024-05-21T18:49:58.921918Z"
    },
    "id": "nyIwNLVLMryT",
    "papermill": {
     "duration": 0.051892,
     "end_time": "2024-05-21T18:49:58.925517",
     "exception": false,
     "start_time": "2024-05-21T18:49:58.873625",
     "status": "completed"
    },
    "tags": []
   },
   "outputs": [],
   "source": [
    "def extract_features_with_centroid(image, block_size=50):\n",
    "    features = np.zeros((100 // block_size, 100 // block_size, 3))\n",
    "    for i in range(0, 100, block_size):\n",
    "        for j in range(0, 100, block_size):\n",
    "            block = image[i : i + block_size, j : j + block_size]\n",
    "            x_centroid, y_centroid, z_centroid = calculate_centroid(block)\n",
    "            features[int(i / block_size), int(j / block_size), 0] = x_centroid\n",
    "            features[int(i / block_size), int(j / block_size), 1] = y_centroid\n",
    "            features[int(i / block_size), int(j / block_size), 2] = z_centroid\n",
    "    return features"
   ]
  },
  {
   "cell_type": "code",
   "execution_count": 22,
   "id": "aacc2dd2",
   "metadata": {
    "execution": {
     "iopub.execute_input": "2024-05-21T18:49:59.007151Z",
     "iopub.status.busy": "2024-05-21T18:49:59.005045Z",
     "iopub.status.idle": "2024-05-21T18:49:59.018812Z",
     "shell.execute_reply": "2024-05-21T18:49:59.017736Z"
    },
    "id": "9zXBT9vyDsnp",
    "papermill": {
     "duration": 0.058013,
     "end_time": "2024-05-21T18:49:59.021607",
     "exception": false,
     "start_time": "2024-05-21T18:49:58.963594",
     "status": "completed"
    },
    "tags": []
   },
   "outputs": [
    {
     "ename": "ValueError",
     "evalue": "With n_samples=0, test_size=0.3 and train_size=None, the resulting train set will be empty. Adjust any of the aforementioned parameters.",
     "output_type": "error",
     "traceback": [
      "\u001b[1;31m---------------------------------------------------------------------------\u001b[0m",
      "\u001b[1;31mValueError\u001b[0m                                Traceback (most recent call last)",
      "Cell \u001b[1;32mIn[22], line 1\u001b[0m\n\u001b[1;32m----> 1\u001b[0m x_train, x_test, y_train, y_test \u001b[38;5;241m=\u001b[39m \u001b[43mtrain_test_split\u001b[49m\u001b[43m(\u001b[49m\n\u001b[0;32m      2\u001b[0m \u001b[43m    \u001b[49m\u001b[43mimages_array\u001b[49m\u001b[43m,\u001b[49m\u001b[43m \u001b[49m\u001b[43mimages_label\u001b[49m\u001b[43m,\u001b[49m\u001b[43m \u001b[49m\u001b[43mtest_size\u001b[49m\u001b[38;5;241;43m=\u001b[39;49m\u001b[38;5;241;43m0.3\u001b[39;49m\n\u001b[0;32m      3\u001b[0m \u001b[43m)\u001b[49m\n",
      "File \u001b[1;32mc:\\Users\\moham\\anaconda3\\Lib\\site-packages\\sklearn\\utils\\_param_validation.py:213\u001b[0m, in \u001b[0;36mvalidate_params.<locals>.decorator.<locals>.wrapper\u001b[1;34m(*args, **kwargs)\u001b[0m\n\u001b[0;32m    207\u001b[0m \u001b[38;5;28;01mtry\u001b[39;00m:\n\u001b[0;32m    208\u001b[0m     \u001b[38;5;28;01mwith\u001b[39;00m config_context(\n\u001b[0;32m    209\u001b[0m         skip_parameter_validation\u001b[38;5;241m=\u001b[39m(\n\u001b[0;32m    210\u001b[0m             prefer_skip_nested_validation \u001b[38;5;129;01mor\u001b[39;00m global_skip_validation\n\u001b[0;32m    211\u001b[0m         )\n\u001b[0;32m    212\u001b[0m     ):\n\u001b[1;32m--> 213\u001b[0m         \u001b[38;5;28;01mreturn\u001b[39;00m \u001b[43mfunc\u001b[49m\u001b[43m(\u001b[49m\u001b[38;5;241;43m*\u001b[39;49m\u001b[43margs\u001b[49m\u001b[43m,\u001b[49m\u001b[43m \u001b[49m\u001b[38;5;241;43m*\u001b[39;49m\u001b[38;5;241;43m*\u001b[39;49m\u001b[43mkwargs\u001b[49m\u001b[43m)\u001b[49m\n\u001b[0;32m    214\u001b[0m \u001b[38;5;28;01mexcept\u001b[39;00m InvalidParameterError \u001b[38;5;28;01mas\u001b[39;00m e:\n\u001b[0;32m    215\u001b[0m     \u001b[38;5;66;03m# When the function is just a wrapper around an estimator, we allow\u001b[39;00m\n\u001b[0;32m    216\u001b[0m     \u001b[38;5;66;03m# the function to delegate validation to the estimator, but we replace\u001b[39;00m\n\u001b[0;32m    217\u001b[0m     \u001b[38;5;66;03m# the name of the estimator by the name of the function in the error\u001b[39;00m\n\u001b[0;32m    218\u001b[0m     \u001b[38;5;66;03m# message to avoid confusion.\u001b[39;00m\n\u001b[0;32m    219\u001b[0m     msg \u001b[38;5;241m=\u001b[39m re\u001b[38;5;241m.\u001b[39msub(\n\u001b[0;32m    220\u001b[0m         \u001b[38;5;124mr\u001b[39m\u001b[38;5;124m\"\u001b[39m\u001b[38;5;124mparameter of \u001b[39m\u001b[38;5;124m\\\u001b[39m\u001b[38;5;124mw+ must be\u001b[39m\u001b[38;5;124m\"\u001b[39m,\n\u001b[0;32m    221\u001b[0m         \u001b[38;5;124mf\u001b[39m\u001b[38;5;124m\"\u001b[39m\u001b[38;5;124mparameter of \u001b[39m\u001b[38;5;132;01m{\u001b[39;00mfunc\u001b[38;5;241m.\u001b[39m\u001b[38;5;18m__qualname__\u001b[39m\u001b[38;5;132;01m}\u001b[39;00m\u001b[38;5;124m must be\u001b[39m\u001b[38;5;124m\"\u001b[39m,\n\u001b[0;32m    222\u001b[0m         \u001b[38;5;28mstr\u001b[39m(e),\n\u001b[0;32m    223\u001b[0m     )\n",
      "File \u001b[1;32mc:\\Users\\moham\\anaconda3\\Lib\\site-packages\\sklearn\\model_selection\\_split.py:2778\u001b[0m, in \u001b[0;36mtrain_test_split\u001b[1;34m(test_size, train_size, random_state, shuffle, stratify, *arrays)\u001b[0m\n\u001b[0;32m   2775\u001b[0m arrays \u001b[38;5;241m=\u001b[39m indexable(\u001b[38;5;241m*\u001b[39marrays)\n\u001b[0;32m   2777\u001b[0m n_samples \u001b[38;5;241m=\u001b[39m _num_samples(arrays[\u001b[38;5;241m0\u001b[39m])\n\u001b[1;32m-> 2778\u001b[0m n_train, n_test \u001b[38;5;241m=\u001b[39m \u001b[43m_validate_shuffle_split\u001b[49m\u001b[43m(\u001b[49m\n\u001b[0;32m   2779\u001b[0m \u001b[43m    \u001b[49m\u001b[43mn_samples\u001b[49m\u001b[43m,\u001b[49m\u001b[43m \u001b[49m\u001b[43mtest_size\u001b[49m\u001b[43m,\u001b[49m\u001b[43m \u001b[49m\u001b[43mtrain_size\u001b[49m\u001b[43m,\u001b[49m\u001b[43m \u001b[49m\u001b[43mdefault_test_size\u001b[49m\u001b[38;5;241;43m=\u001b[39;49m\u001b[38;5;241;43m0.25\u001b[39;49m\n\u001b[0;32m   2780\u001b[0m \u001b[43m\u001b[49m\u001b[43m)\u001b[49m\n\u001b[0;32m   2782\u001b[0m \u001b[38;5;28;01mif\u001b[39;00m shuffle \u001b[38;5;129;01mis\u001b[39;00m \u001b[38;5;28;01mFalse\u001b[39;00m:\n\u001b[0;32m   2783\u001b[0m     \u001b[38;5;28;01mif\u001b[39;00m stratify \u001b[38;5;129;01mis\u001b[39;00m \u001b[38;5;129;01mnot\u001b[39;00m \u001b[38;5;28;01mNone\u001b[39;00m:\n",
      "File \u001b[1;32mc:\\Users\\moham\\anaconda3\\Lib\\site-packages\\sklearn\\model_selection\\_split.py:2408\u001b[0m, in \u001b[0;36m_validate_shuffle_split\u001b[1;34m(n_samples, test_size, train_size, default_test_size)\u001b[0m\n\u001b[0;32m   2405\u001b[0m n_train, n_test \u001b[38;5;241m=\u001b[39m \u001b[38;5;28mint\u001b[39m(n_train), \u001b[38;5;28mint\u001b[39m(n_test)\n\u001b[0;32m   2407\u001b[0m \u001b[38;5;28;01mif\u001b[39;00m n_train \u001b[38;5;241m==\u001b[39m \u001b[38;5;241m0\u001b[39m:\n\u001b[1;32m-> 2408\u001b[0m     \u001b[38;5;28;01mraise\u001b[39;00m \u001b[38;5;167;01mValueError\u001b[39;00m(\n\u001b[0;32m   2409\u001b[0m         \u001b[38;5;124m\"\u001b[39m\u001b[38;5;124mWith n_samples=\u001b[39m\u001b[38;5;132;01m{}\u001b[39;00m\u001b[38;5;124m, test_size=\u001b[39m\u001b[38;5;132;01m{}\u001b[39;00m\u001b[38;5;124m and train_size=\u001b[39m\u001b[38;5;132;01m{}\u001b[39;00m\u001b[38;5;124m, the \u001b[39m\u001b[38;5;124m\"\u001b[39m\n\u001b[0;32m   2410\u001b[0m         \u001b[38;5;124m\"\u001b[39m\u001b[38;5;124mresulting train set will be empty. Adjust any of the \u001b[39m\u001b[38;5;124m\"\u001b[39m\n\u001b[0;32m   2411\u001b[0m         \u001b[38;5;124m\"\u001b[39m\u001b[38;5;124maforementioned parameters.\u001b[39m\u001b[38;5;124m\"\u001b[39m\u001b[38;5;241m.\u001b[39mformat(n_samples, test_size, train_size)\n\u001b[0;32m   2412\u001b[0m     )\n\u001b[0;32m   2414\u001b[0m \u001b[38;5;28;01mreturn\u001b[39;00m n_train, n_test\n",
      "\u001b[1;31mValueError\u001b[0m: With n_samples=0, test_size=0.3 and train_size=None, the resulting train set will be empty. Adjust any of the aforementioned parameters."
     ]
    }
   ],
   "source": [
    "x_train, x_test, y_train, y_test = train_test_split(\n",
    "    images_array, images_label, test_size=0.3\n",
    ")"
   ]
  },
  {
   "cell_type": "code",
   "execution_count": null,
   "id": "ed0f22de",
   "metadata": {
    "execution": {
     "iopub.execute_input": "2024-05-21T18:49:59.102653Z",
     "iopub.status.busy": "2024-05-21T18:49:59.101609Z",
     "iopub.status.idle": "2024-05-21T18:49:59.109801Z",
     "shell.execute_reply": "2024-05-21T18:49:59.108269Z"
    },
    "id": "wHMU-cKsDsnp",
    "outputId": "8595c151-330d-4a9d-b4f6-223165fb3a15",
    "papermill": {
     "duration": 0.052342,
     "end_time": "2024-05-21T18:49:59.112845",
     "exception": false,
     "start_time": "2024-05-21T18:49:59.060503",
     "status": "completed"
    },
    "tags": []
   },
   "outputs": [
    {
     "name": "stdout",
     "output_type": "stream",
     "text": [
      "train input shape: (402, 100, 100, 3)\n",
      "train output shape: (402,)\n",
      "test input shape: (173, 100, 100, 3)\n",
      "test output shape: (173,)\n"
     ]
    }
   ],
   "source": [
    "print(\"train input shape: {}\".format(x_train.shape))\n",
    "print(\"train output shape: {}\".format(y_train.shape))\n",
    "print(\"test input shape: {}\".format(x_test.shape))\n",
    "print(\"test output shape: {}\".format(y_test.shape))"
   ]
  },
  {
   "cell_type": "code",
   "execution_count": null,
   "id": "a12cca3c",
   "metadata": {
    "execution": {
     "iopub.execute_input": "2024-05-21T18:49:59.194337Z",
     "iopub.status.busy": "2024-05-21T18:49:59.193853Z",
     "iopub.status.idle": "2024-05-21T18:53:20.552522Z",
     "shell.execute_reply": "2024-05-21T18:53:20.551310Z"
    },
    "id": "uS8hSAvQNTAS",
    "outputId": "7c8768d2-76a7-4c08-a026-937ff60ee80d",
    "papermill": {
     "duration": 201.443635,
     "end_time": "2024-05-21T18:53:20.595069",
     "exception": false,
     "start_time": "2024-05-21T18:49:59.151434",
     "status": "completed"
    },
    "tags": []
   },
   "outputs": [
    {
     "name": "stdout",
     "output_type": "stream",
     "text": [
      "CPU times: user 3min 20s, sys: 30.5 ms, total: 3min 20s\n",
      "Wall time: 3min 21s\n"
     ]
    }
   ],
   "source": [
    "%%time\n",
    "\n",
    "train_features_with_centroid = np.nan_to_num(\n",
    "    np.array([extract_features_with_centroid(image) for image in x_train])\n",
    ")\n",
    "\n",
    "test_features_with_centroid = np.nan_to_num(\n",
    "    np.array([extract_features_with_centroid(image) for image in x_test])\n",
    ")"
   ]
  },
  {
   "cell_type": "code",
   "execution_count": null,
   "id": "cbc3a902",
   "metadata": {
    "execution": {
     "iopub.execute_input": "2024-05-21T18:53:20.676647Z",
     "iopub.status.busy": "2024-05-21T18:53:20.676209Z",
     "iopub.status.idle": "2024-05-21T18:53:20.683897Z",
     "shell.execute_reply": "2024-05-21T18:53:20.682661Z"
    },
    "id": "I86JJLUeNXXL",
    "papermill": {
     "duration": 0.05207,
     "end_time": "2024-05-21T18:53:20.686625",
     "exception": false,
     "start_time": "2024-05-21T18:53:20.634555",
     "status": "completed"
    },
    "tags": []
   },
   "outputs": [
    {
     "data": {
      "text/plain": [
       "((402, 2, 2, 3), (173, 2, 2, 3))"
      ]
     },
     "execution_count": 24,
     "metadata": {},
     "output_type": "execute_result"
    }
   ],
   "source": [
    "train_features_with_centroid.shape, test_features_with_centroid.shape"
   ]
  },
  {
   "cell_type": "code",
   "execution_count": null,
   "id": "39f42735",
   "metadata": {
    "execution": {
     "iopub.execute_input": "2024-05-21T18:53:20.766105Z",
     "iopub.status.busy": "2024-05-21T18:53:20.765412Z",
     "iopub.status.idle": "2024-05-21T18:53:20.771583Z",
     "shell.execute_reply": "2024-05-21T18:53:20.770460Z"
    },
    "id": "4qzb3ZGiNcW9",
    "papermill": {
     "duration": 0.048828,
     "end_time": "2024-05-21T18:53:20.773918",
     "exception": false,
     "start_time": "2024-05-21T18:53:20.725090",
     "status": "completed"
    },
    "tags": []
   },
   "outputs": [],
   "source": [
    "train_features_with_centroid = train_features_with_centroid.reshape(\n",
    "    train_features_with_centroid.shape[0], -1\n",
    ")\n",
    "\n",
    "test_features_with_centroid = test_features_with_centroid.reshape(\n",
    "    test_features_with_centroid.shape[0], -1\n",
    ")"
   ]
  },
  {
   "cell_type": "code",
   "execution_count": null,
   "id": "3ce48d07",
   "metadata": {
    "execution": {
     "iopub.execute_input": "2024-05-21T18:53:20.857244Z",
     "iopub.status.busy": "2024-05-21T18:53:20.856206Z",
     "iopub.status.idle": "2024-05-21T18:53:20.862714Z",
     "shell.execute_reply": "2024-05-21T18:53:20.861794Z"
    },
    "id": "0IbIBIXBNeN4",
    "papermill": {
     "duration": 0.051089,
     "end_time": "2024-05-21T18:53:20.865148",
     "exception": false,
     "start_time": "2024-05-21T18:53:20.814059",
     "status": "completed"
    },
    "tags": []
   },
   "outputs": [
    {
     "data": {
      "text/plain": [
       "(402, 12)"
      ]
     },
     "execution_count": 26,
     "metadata": {},
     "output_type": "execute_result"
    }
   ],
   "source": [
    "train_features_with_centroid.shape"
   ]
  },
  {
   "cell_type": "markdown",
   "id": "5bd432a2",
   "metadata": {
    "papermill": {
     "duration": 0.039751,
     "end_time": "2024-05-21T18:53:20.945381",
     "exception": false,
     "start_time": "2024-05-21T18:53:20.905630",
     "status": "completed"
    },
    "tags": []
   },
   "source": [
    "# Model\n"
   ]
  },
  {
   "cell_type": "code",
   "execution_count": null,
   "id": "10d6dae4",
   "metadata": {
    "execution": {
     "iopub.execute_input": "2024-05-21T18:53:21.031302Z",
     "iopub.status.busy": "2024-05-21T18:53:21.030544Z",
     "iopub.status.idle": "2024-05-21T18:53:21.053336Z",
     "shell.execute_reply": "2024-05-21T18:53:21.052334Z"
    },
    "papermill": {
     "duration": 0.069714,
     "end_time": "2024-05-21T18:53:21.055908",
     "exception": false,
     "start_time": "2024-05-21T18:53:20.986194",
     "status": "completed"
    },
    "tags": []
   },
   "outputs": [],
   "source": [
    "class LogisticRegression:\n",
    "    def __init__(\n",
    "        self,\n",
    "        lr=0.01,\n",
    "        num_iter=1000,\n",
    "        verbose=False,\n",
    "    ):\n",
    "        self.lr = lr\n",
    "        self.num_iter = num_iter\n",
    "        self.verbose = verbose\n",
    "        self.weights = None\n",
    "        self.bias = None\n",
    "        self.x = None\n",
    "        self.y = None\n",
    "        self.classes_ = None\n",
    "        self.m = None\n",
    "        self.n = None\n",
    "        self.losses = []\n",
    "        self.accuracies = []\n",
    "\n",
    "    def gradient_descent(self):\n",
    "        y_hat = self.predict(self.x)\n",
    "        dw = (1 / self.m) * np.dot(self.x.T, (y_hat - self.y))\n",
    "        db = (1 / self.m) * np.sum(y_hat - self.y)\n",
    "        self.weights -= self.lr * dw\n",
    "        self.bias -= self.lr * db\n",
    "\n",
    "    def predict(self, x):\n",
    "        z = np.dot(x, self.weights) + self.bias\n",
    "        predication = 1.0 / (1.0 + np.exp(-z))\n",
    "        return predication\n",
    "\n",
    "    def plot(self):\n",
    "        plt.plot(self.losses)\n",
    "        plt.plot(self.accuracies)\n",
    "        plt.xlabel(\"Number of iterations\")\n",
    "        plt.ylabel(\"Loss\")\n",
    "        plt.legend([\"Loss\", \"Accuracy\"])\n",
    "        plt.show()\n",
    "\n",
    "    def loss(self):\n",
    "        y_hat = self.predict(self.x)\n",
    "        self.losses.append(\n",
    "            -np.mean(\n",
    "                self.y * np.log(y_hat + sys.float_info.min)\n",
    "                + (1 - self.y) * np.log(1 - y_hat + sys.float_info.min)\n",
    "            )\n",
    "        )\n",
    "        return self.losses[-1]\n",
    "\n",
    "    def accuracy(self):\n",
    "        y_hat = self.predict(self.x)\n",
    "        acc = np.mean(y_hat.round() == self.y)\n",
    "        self.accuracies.append(acc)\n",
    "\n",
    "    def F1_score(self):\n",
    "        y_hat = self.predict(self.x)\n",
    "        return f1_score(self.y, y_hat.round())\n",
    "\n",
    "    def precision(self):\n",
    "        y_hat = self.predict(self.x)\n",
    "        return precision_score(self.y, y_hat.round())\n",
    "\n",
    "    def recall(self):\n",
    "        y_hat = self.predict(self.x)\n",
    "        return recall_score(self.y, y_hat.round())\n",
    "\n",
    "    def fit(self, x, y):\n",
    "        self.x = x\n",
    "        self.y = y\n",
    "        best_loss = sys.float_info.max\n",
    "        patience = 5\n",
    "        self.m, self.n = x.shape\n",
    "        self.weights = np.random.rand(self.n)\n",
    "        self.bias = np.random.rand()\n",
    "        for _ in range(self.num_iter):\n",
    "            self.gradient_descent()\n",
    "            self.loss()\n",
    "            self.accuracy()\n",
    "\n",
    "            if self.losses[-1] < best_loss:\n",
    "                best_loss = self.losses[-1]\n",
    "                patience = 5\n",
    "            else:\n",
    "                patience -= 1\n",
    "                if patience == 0:\n",
    "                    break\n",
    "\n",
    "        if self.verbose:\n",
    "            print(f\"\\nFinal Loss: {self.losses[-1]}\")\n",
    "            print(f\"Final Accuracy: {self.accuracies[-1]}\")\n",
    "\n",
    "    def eval(self, x, y):\n",
    "        self.x = x\n",
    "        self.y = y\n",
    "        self.accuracy()\n",
    "        if self.verbose:\n",
    "            print(f\"Accuracy: {self.accuracies[-1]}\")\n",
    "            print(f\"F1 Score: {self.F1_score()}\")\n",
    "            print(f\"Precision: {self.precision()}\")\n",
    "            print(f\"Recall: {self.recall()}\")"
   ]
  },
  {
   "cell_type": "code",
   "execution_count": null,
   "id": "405d921d",
   "metadata": {
    "execution": {
     "iopub.execute_input": "2024-05-21T18:53:21.138493Z",
     "iopub.status.busy": "2024-05-21T18:53:21.137516Z",
     "iopub.status.idle": "2024-05-21T18:53:21.142943Z",
     "shell.execute_reply": "2024-05-21T18:53:21.142014Z"
    },
    "id": "v3Jvdmo4Dsnp",
    "outputId": "afa63760-cd68-4898-8b98-5be62471cf67",
    "papermill": {
     "duration": 0.050682,
     "end_time": "2024-05-21T18:53:21.145731",
     "exception": false,
     "start_time": "2024-05-21T18:53:21.095049",
     "status": "completed"
    },
    "tags": []
   },
   "outputs": [],
   "source": [
    "model = LogisticRegression(verbose=True)"
   ]
  },
  {
   "cell_type": "code",
   "execution_count": null,
   "id": "d5f528f2",
   "metadata": {
    "execution": {
     "iopub.execute_input": "2024-05-21T18:53:21.227280Z",
     "iopub.status.busy": "2024-05-21T18:53:21.225967Z",
     "iopub.status.idle": "2024-05-21T18:53:21.234886Z",
     "shell.execute_reply": "2024-05-21T18:53:21.234040Z"
    },
    "papermill": {
     "duration": 0.051769,
     "end_time": "2024-05-21T18:53:21.237370",
     "exception": false,
     "start_time": "2024-05-21T18:53:21.185601",
     "status": "completed"
    },
    "tags": []
   },
   "outputs": [
    {
     "data": {
      "text/plain": [
       "(array([0, 1]), array([0, 1]))"
      ]
     },
     "execution_count": 29,
     "metadata": {},
     "output_type": "execute_result"
    }
   ],
   "source": [
    "np.unique(y_train), np.unique(y_test)"
   ]
  },
  {
   "cell_type": "code",
   "execution_count": null,
   "id": "12312c6b",
   "metadata": {
    "execution": {
     "iopub.execute_input": "2024-05-21T18:53:21.319396Z",
     "iopub.status.busy": "2024-05-21T18:53:21.318622Z",
     "iopub.status.idle": "2024-05-21T18:53:21.324709Z",
     "shell.execute_reply": "2024-05-21T18:53:21.323735Z"
    },
    "papermill": {
     "duration": 0.050019,
     "end_time": "2024-05-21T18:53:21.327612",
     "exception": false,
     "start_time": "2024-05-21T18:53:21.277593",
     "status": "completed"
    },
    "tags": []
   },
   "outputs": [],
   "source": [
    "train_features_with_centroid = (\n",
    "    train_features_with_centroid - train_features_with_centroid.mean()\n",
    ") / train_features_with_centroid.std()\n",
    "\n",
    "\n",
    "test_features_with_centroid = (\n",
    "    test_features_with_centroid - test_features_with_centroid.mean()\n",
    ") / test_features_with_centroid.std()"
   ]
  },
  {
   "cell_type": "code",
   "execution_count": null,
   "id": "641282ea",
   "metadata": {
    "execution": {
     "iopub.execute_input": "2024-05-21T18:53:21.410598Z",
     "iopub.status.busy": "2024-05-21T18:53:21.409802Z",
     "iopub.status.idle": "2024-05-21T18:53:21.585617Z",
     "shell.execute_reply": "2024-05-21T18:53:21.584185Z"
    },
    "id": "0aZrc1tTDsnp",
    "outputId": "160c8cb2-ea3d-414d-8276-d03c475c2da8",
    "papermill": {
     "duration": 0.220261,
     "end_time": "2024-05-21T18:53:21.588213",
     "exception": false,
     "start_time": "2024-05-21T18:53:21.367952",
     "status": "completed"
    },
    "tags": []
   },
   "outputs": [
    {
     "name": "stdout",
     "output_type": "stream",
     "text": [
      "\n",
      "Final Loss: 0.6108794662750758\n",
      "Final Accuracy: 0.7910447761194029\n"
     ]
    }
   ],
   "source": [
    "model.fit(train_features_with_centroid, y_train)"
   ]
  },
  {
   "cell_type": "code",
   "execution_count": null,
   "id": "a2f4170f",
   "metadata": {
    "execution": {
     "iopub.execute_input": "2024-05-21T18:53:21.673803Z",
     "iopub.status.busy": "2024-05-21T18:53:21.673406Z",
     "iopub.status.idle": "2024-05-21T18:53:21.968389Z",
     "shell.execute_reply": "2024-05-21T18:53:21.967165Z"
    },
    "papermill": {
     "duration": 0.340895,
     "end_time": "2024-05-21T18:53:21.971265",
     "exception": false,
     "start_time": "2024-05-21T18:53:21.630370",
     "status": "completed"
    },
    "tags": []
   },
   "outputs": [
    {
     "data": {
      "image/png": "[encoded data removed]",
      "text/plain": [
       "<Figure size 640x480 with 1 Axes>"
      ]
     },
     "metadata": {},
     "output_type": "display_data"
    }
   ],
   "source": [
    "model.plot()"
   ]
  },
  {
   "cell_type": "code",
   "execution_count": null,
   "id": "6e539323",
   "metadata": {
    "execution": {
     "iopub.execute_input": "2024-05-21T18:53:22.055483Z",
     "iopub.status.busy": "2024-05-21T18:53:22.054788Z",
     "iopub.status.idle": "2024-05-21T18:53:22.070757Z",
     "shell.execute_reply": "2024-05-21T18:53:22.069252Z"
    },
    "papermill": {
     "duration": 0.061152,
     "end_time": "2024-05-21T18:53:22.073264",
     "exception": false,
     "start_time": "2024-05-21T18:53:22.012112",
     "status": "completed"
    },
    "tags": []
   },
   "outputs": [
    {
     "name": "stdout",
     "output_type": "stream",
     "text": [
      "Accuracy: 0.7910447761194029\n",
      "F1 Score: 0.8326693227091634\n",
      "Precision: 0.7206896551724138\n",
      "Recall: 0.9858490566037735\n"
     ]
    }
   ],
   "source": [
    "model.eval(train_features_with_centroid, y_train)"
   ]
  },
  {
   "cell_type": "code",
   "execution_count": null,
   "id": "ef1602ec",
   "metadata": {
    "execution": {
     "iopub.execute_input": "2024-05-21T18:53:22.155609Z",
     "iopub.status.busy": "2024-05-21T18:53:22.154392Z",
     "iopub.status.idle": "2024-05-21T18:53:22.168207Z",
     "shell.execute_reply": "2024-05-21T18:53:22.166532Z"
    },
    "id": "yrg-OhmcDsnp",
    "papermill": {
     "duration": 0.057078,
     "end_time": "2024-05-21T18:53:22.170716",
     "exception": false,
     "start_time": "2024-05-21T18:53:22.113638",
     "status": "completed"
    },
    "tags": []
   },
   "outputs": [
    {
     "name": "stdout",
     "output_type": "stream",
     "text": [
      "Accuracy: 0.7687861271676301\n",
      "F1 Score: 0.7872340425531914\n",
      "Precision: 0.6666666666666666\n",
      "Recall: 0.961038961038961\n"
     ]
    }
   ],
   "source": [
    "model.eval(test_features_with_centroid, y_test)"
   ]
  },
  {
   "cell_type": "code",
   "execution_count": null,
   "id": "1463c638",
   "metadata": {
    "execution": {
     "iopub.execute_input": "2024-05-21T18:53:22.253569Z",
     "iopub.status.busy": "2024-05-21T18:53:22.252388Z",
     "iopub.status.idle": "2024-05-21T18:53:22.267687Z",
     "shell.execute_reply": "2024-05-21T18:53:22.266639Z"
    },
    "papermill": {
     "duration": 0.059882,
     "end_time": "2024-05-21T18:53:22.270701",
     "exception": false,
     "start_time": "2024-05-21T18:53:22.210819",
     "status": "completed"
    },
    "tags": []
   },
   "outputs": [
    {
     "name": "stdout",
     "output_type": "stream",
     "text": [
      "              precision    recall  f1-score   support\n",
      "\n",
      "           0       0.95      0.61      0.75        96\n",
      "           1       0.67      0.96      0.79        77\n",
      "\n",
      "    accuracy                           0.77       173\n",
      "   macro avg       0.81      0.79      0.77       173\n",
      "weighted avg       0.82      0.77      0.76       173\n",
      "\n"
     ]
    }
   ],
   "source": [
    "print(classification_report(y_test, model.predict(test_features_with_centroid).round()))"
   ]
  },
  {
   "cell_type": "code",
   "execution_count": null,
   "id": "52819cdd",
   "metadata": {
    "execution": {
     "iopub.execute_input": "2024-05-21T18:53:22.359503Z",
     "iopub.status.busy": "2024-05-21T18:53:22.358728Z",
     "iopub.status.idle": "2024-05-21T18:53:22.365942Z",
     "shell.execute_reply": "2024-05-21T18:53:22.364516Z"
    },
    "papermill": {
     "duration": 0.054744,
     "end_time": "2024-05-21T18:53:22.368565",
     "exception": false,
     "start_time": "2024-05-21T18:53:22.313821",
     "status": "completed"
    },
    "tags": []
   },
   "outputs": [
    {
     "data": {
      "text/plain": [
       "100"
      ]
     },
     "execution_count": 36,
     "metadata": {},
     "output_type": "execute_result"
    }
   ],
   "source": [
    "x_train.shape[1]"
   ]
  },
  {
   "cell_type": "code",
   "execution_count": null,
   "id": "f250e856",
   "metadata": {
    "execution": {
     "iopub.execute_input": "2024-05-21T18:53:22.453427Z",
     "iopub.status.busy": "2024-05-21T18:53:22.452739Z",
     "iopub.status.idle": "2024-05-21T18:53:22.460007Z",
     "shell.execute_reply": "2024-05-21T18:53:22.458668Z"
    },
    "papermill": {
     "duration": 0.053237,
     "end_time": "2024-05-21T18:53:22.462733",
     "exception": false,
     "start_time": "2024-05-21T18:53:22.409496",
     "status": "completed"
    },
    "tags": []
   },
   "outputs": [
    {
     "data": {
      "text/plain": [
       "(402,)"
      ]
     },
     "execution_count": 37,
     "metadata": {},
     "output_type": "execute_result"
    }
   ],
   "source": [
    "y_train.shape"
   ]
  },
  {
   "cell_type": "markdown",
   "id": "e41103c6",
   "metadata": {
    "papermill": {
     "duration": 0.040256,
     "end_time": "2024-05-21T18:53:22.545495",
     "exception": false,
     "start_time": "2024-05-21T18:53:22.505239",
     "status": "completed"
    },
    "tags": []
   },
   "source": [
    "# Particle Swarm Optimization\n"
   ]
  },
  {
   "cell_type": "code",
   "execution_count": null,
   "id": "79be5243",
   "metadata": {
    "execution": {
     "iopub.execute_input": "2024-05-21T18:53:22.629293Z",
     "iopub.status.busy": "2024-05-21T18:53:22.628604Z",
     "iopub.status.idle": "2024-05-21T18:53:22.633915Z",
     "shell.execute_reply": "2024-05-21T18:53:22.632640Z"
    },
    "papermill": {
     "duration": 0.051443,
     "end_time": "2024-05-21T18:53:22.637001",
     "exception": false,
     "start_time": "2024-05-21T18:53:22.585558",
     "status": "completed"
    },
    "tags": []
   },
   "outputs": [],
   "source": [
    "tries = []"
   ]
  },
  {
   "cell_type": "code",
   "execution_count": null,
   "id": "1f0d38e5",
   "metadata": {
    "execution": {
     "iopub.execute_input": "2024-05-21T18:53:22.721979Z",
     "iopub.status.busy": "2024-05-21T18:53:22.721053Z",
     "iopub.status.idle": "2024-05-21T18:53:22.736300Z",
     "shell.execute_reply": "2024-05-21T18:53:22.735358Z"
    },
    "papermill": {
     "duration": 0.060028,
     "end_time": "2024-05-21T18:53:22.739166",
     "exception": false,
     "start_time": "2024-05-21T18:53:22.679138",
     "status": "completed"
    },
    "tags": []
   },
   "outputs": [],
   "source": [
    "# class Particle:\n",
    "#     def __init__(self, lr):\n",
    "#         # self.x = x\n",
    "#         self.lr = lr\n",
    "#         # self.best_x = x\n",
    "#         self.best_lr = lr\n",
    "#         self.best_loss = sys.float_info.max\n",
    "#         self.loss = sys.float_info.max\n",
    "#         self.velocity = np.random.rand(1)\n",
    "\n",
    "#     def update(self, loss):\n",
    "#         self.loss = loss\n",
    "#         if loss < self.best_loss:\n",
    "#             self.best_loss = loss\n",
    "#             self.best_lr = self.lr\n",
    "\n",
    "#     def move(self):\n",
    "#         # self.x += self.velocity[0]\n",
    "#         self.lr += self.velocity[0]\n",
    "\n",
    "#     def __repr__(self):\n",
    "#         return f\"Particle(lr={self.lr}, loss={self.loss})\"\n",
    "\n",
    "\n",
    "# class Swarm:\n",
    "#     def __init__(self, objective_function, bounds, maxiter=100, debug=False):\n",
    "#         self.particles = []\n",
    "#         self.best_loss = sys.float_info.max\n",
    "#         self.best_value = None\n",
    "#         self.objective_function = objective_function\n",
    "#         self.bounds = bounds\n",
    "#         self.maxiter = maxiter\n",
    "#         self.debug = debug\n",
    "#         for _ in range(100):\n",
    "#             # x = np.random.randint(bounds[0][0], bounds[0][1])\n",
    "#             lr = np.random.uniform(bounds[0][0], bounds[0][1])\n",
    "#             self.particles.append(Particle(lr))\n",
    "\n",
    "#     def run(self):\n",
    "#         for _ in range(self.maxiter):\n",
    "#             for particle in self.particles:\n",
    "#                 loss = self.objective_function(particle.lr)\n",
    "#                 particle.update(loss)\n",
    "#                 if loss < self.best_loss:\n",
    "#                     self.best_loss = loss\n",
    "#                     self.best_value = particle.lr\n",
    "#             if self.debug:\n",
    "#                 print(f\"Best Loss: {self.best_loss}, Best Value: {self.best_value}\")\n",
    "\n",
    "\n",
    "# def objective_function(LR):\n",
    "#     tries.append(LR)\n",
    "#     print(f\"\\tTrying Subset: {LR[0]}, LR: {LR[1]}\")\n",
    "#     model = LogisticRegression(lr=LR)\n",
    "#     model.fit(train_features_with_centroid, y_train)\n",
    "#     model.eval(test_features_with_centroid, y_test)\n",
    "#     return -model.F1_score()"
   ]
  },
  {
   "cell_type": "code",
   "execution_count": null,
   "id": "731f527d",
   "metadata": {
    "execution": {
     "iopub.execute_input": "2024-05-21T18:53:22.826032Z",
     "iopub.status.busy": "2024-05-21T18:53:22.825375Z",
     "iopub.status.idle": "2024-05-21T18:53:22.830707Z",
     "shell.execute_reply": "2024-05-21T18:53:22.829633Z"
    },
    "papermill": {
     "duration": 0.051872,
     "end_time": "2024-05-21T18:53:22.833221",
     "exception": false,
     "start_time": "2024-05-21T18:53:22.781349",
     "status": "completed"
    },
    "tags": []
   },
   "outputs": [],
   "source": [
    "# swarm = Swarm(objective_function, [[0.01, 0.99]], maxiter=100, debug=True)"
   ]
  },
  {
   "cell_type": "code",
   "execution_count": null,
   "id": "2c5f5180",
   "metadata": {
    "execution": {
     "iopub.execute_input": "2024-05-21T18:53:22.920217Z",
     "iopub.status.busy": "2024-05-21T18:53:22.919768Z",
     "iopub.status.idle": "2024-05-21T18:53:22.924144Z",
     "shell.execute_reply": "2024-05-21T18:53:22.923013Z"
    },
    "papermill": {
     "duration": 0.051873,
     "end_time": "2024-05-21T18:53:22.926553",
     "exception": false,
     "start_time": "2024-05-21T18:53:22.874680",
     "status": "completed"
    },
    "tags": []
   },
   "outputs": [],
   "source": [
    "# swarm.run()"
   ]
  },
  {
   "cell_type": "code",
   "execution_count": null,
   "id": "d71806f6",
   "metadata": {
    "execution": {
     "iopub.execute_input": "2024-05-21T18:53:23.012866Z",
     "iopub.status.busy": "2024-05-21T18:53:23.012014Z",
     "iopub.status.idle": "2024-05-21T18:53:23.030726Z",
     "shell.execute_reply": "2024-05-21T18:53:23.029572Z"
    },
    "papermill": {
     "duration": 0.065905,
     "end_time": "2024-05-21T18:53:23.033517",
     "exception": false,
     "start_time": "2024-05-21T18:53:22.967612",
     "status": "completed"
    },
    "tags": []
   },
   "outputs": [],
   "source": [
    "class Particle:\n",
    "    def __init__(self, bounds):\n",
    "        self.position = np.array([np.random.uniform(b[0], b[1]) for b in bounds])\n",
    "        self.velocity = np.array(\n",
    "            [np.random.uniform(-abs(b[1] - b[0]), abs(b[1] - b[0])) for b in bounds]\n",
    "        )\n",
    "        self.best_position = self.position.copy()\n",
    "        self.best_fitness = float(\"inf\")\n",
    "        self.fitness = float(\"inf\")\n",
    "\n",
    "\n",
    "def update_velocity(particle, global_best_position, w=0.5, c1=1.0, c2=2.0):\n",
    "    inertia = w * particle.velocity\n",
    "    cognitive = c1 * np.random.random() * (particle.best_position - particle.position)\n",
    "    social = c2 * np.random.random() * (global_best_position - particle.position)\n",
    "    particle.velocity = inertia + cognitive + social\n",
    "\n",
    "\n",
    "def update_position(particle, bounds):\n",
    "    particle.position += particle.velocity\n",
    "    # Ensure the particle's position is within the bounds\n",
    "    for i in range(len(bounds)):\n",
    "        if particle.position[i] < bounds[i][0]:\n",
    "            particle.position[i] = bounds[i][0]\n",
    "        elif particle.position[i] > bounds[i][1]:\n",
    "            particle.position[i] = bounds[i][1]\n",
    "\n",
    "\n",
    "def objective_function(subset):\n",
    "    tries.append(subset)\n",
    "    print(f\"\\tTrying Subset: {round(subset[0])}, LR: {subset[1]}\")\n",
    "    X_train_subset = train_features_with_centroid[:, : round(subset[0])]\n",
    "    X_test_subset = test_features_with_centroid[:, : round(subset[0])]\n",
    "    model = LogisticRegression(lr=subset[1])\n",
    "    model.fit(X_train_subset, y_train)\n",
    "    model.eval(X_test_subset, y_test)\n",
    "    return -model.F1_score()\n",
    "\n",
    "\n",
    "def pso(objective_function, bounds, num_particles, max_iter):\n",
    "    swarm = [Particle(bounds) for _ in range(num_particles)]\n",
    "    global_best_position = np.zeros(len(bounds))\n",
    "    global_best_fitness = float(\"inf\")\n",
    "    for iteration in range(max_iter):\n",
    "        for particle in swarm:\n",
    "            particle.fitness = objective_function(particle.position)\n",
    "            if particle.fitness < particle.best_fitness:\n",
    "                particle.best_fitness = particle.fitness\n",
    "                particle.best_position = particle.position.copy()\n",
    "            if particle.fitness < global_best_fitness:\n",
    "                global_best_fitness = particle.fitness\n",
    "                global_best_position = particle.position.copy()\n",
    "        for particle in swarm:\n",
    "            update_velocity(particle, global_best_position)\n",
    "            update_position(particle, bounds)\n",
    "        print(\n",
    "            f\"Iteration {iteration+1}/{max_iter}, Global Best Fitness: {-global_best_fitness}, Global Best Position: {global_best_position}\"\n",
    "        )\n",
    "    return global_best_position, -global_best_fitness\n"
   ]
  },
  {
   "cell_type": "code",
   "execution_count": null,
   "id": "be41c452",
   "metadata": {
    "execution": {
     "iopub.execute_input": "2024-05-21T18:53:23.119389Z",
     "iopub.status.busy": "2024-05-21T18:53:23.118915Z",
     "iopub.status.idle": "2024-05-21T19:25:35.823286Z",
     "shell.execute_reply": "2024-05-21T19:25:35.821918Z"
    },
    "papermill": {
     "duration": 1932.801189,
     "end_time": "2024-05-21T19:25:35.877167",
     "exception": false,
     "start_time": "2024-05-21T18:53:23.075978",
     "status": "completed"
    },
    "tags": []
   },
   "outputs": [
    {
     "name": "stdout",
     "output_type": "stream",
     "text": [
      "Iteration 1/100, Global Best Fitness: 0.8571428571428571, Global Best Position: [8.84571548 0.09611075]\n",
      "Iteration 2/100, Global Best Fitness: 0.8571428571428571, Global Best Position: [8.84571548 0.09611075]\n",
      "Iteration 3/100, Global Best Fitness: 0.8571428571428571, Global Best Position: [8.84571548 0.09611075]\n",
      "Iteration 4/100, Global Best Fitness: 0.8571428571428571, Global Best Position: [8.84571548 0.09611075]\n",
      "Iteration 5/100, Global Best Fitness: 0.8571428571428571, Global Best Position: [8.84571548 0.09611075]\n",
      "Iteration 6/100, Global Best Fitness: 0.8571428571428571, Global Best Position: [8.84571548 0.09611075]\n",
      "Iteration 7/100, Global Best Fitness: 0.8571428571428571, Global Best Position: [8.84571548 0.09611075]\n",
      "Iteration 8/100, Global Best Fitness: 0.8571428571428571, Global Best Position: [8.84571548 0.09611075]\n",
      "Iteration 9/100, Global Best Fitness: 0.8571428571428571, Global Best Position: [8.84571548 0.09611075]\n",
      "Iteration 10/100, Global Best Fitness: 0.8571428571428571, Global Best Position: [8.84571548 0.09611075]\n",
      "Iteration 11/100, Global Best Fitness: 0.8571428571428571, Global Best Position: [8.84571548 0.09611075]\n",
      "Iteration 12/100, Global Best Fitness: 0.8571428571428571, Global Best Position: [8.84571548 0.09611075]\n",
      "Iteration 13/100, Global Best Fitness: 0.8571428571428571, Global Best Position: [8.84571548 0.09611075]\n",
      "Iteration 14/100, Global Best Fitness: 0.8571428571428571, Global Best Position: [8.84571548 0.09611075]\n",
      "Iteration 15/100, Global Best Fitness: 0.8571428571428571, Global Best Position: [8.84571548 0.09611075]\n",
      "Iteration 16/100, Global Best Fitness: 0.8571428571428571, Global Best Position: [8.84571548 0.09611075]\n",
      "Iteration 17/100, Global Best Fitness: 0.8571428571428571, Global Best Position: [8.84571548 0.09611075]\n",
      "Iteration 18/100, Global Best Fitness: 0.8571428571428571, Global Best Position: [8.84571548 0.09611075]\n",
      "Iteration 19/100, Global Best Fitness: 0.8571428571428571, Global Best Position: [8.84571548 0.09611075]\n",
      "Iteration 20/100, Global Best Fitness: 0.8571428571428571, Global Best Position: [8.84571548 0.09611075]\n",
      "Iteration 21/100, Global Best Fitness: 0.8571428571428571, Global Best Position: [8.84571548 0.09611075]\n",
      "Iteration 22/100, Global Best Fitness: 0.8571428571428571, Global Best Position: [8.84571548 0.09611075]\n",
      "Iteration 23/100, Global Best Fitness: 0.8571428571428571, Global Best Position: [8.84571548 0.09611075]\n",
      "Iteration 24/100, Global Best Fitness: 0.8571428571428571, Global Best Position: [8.84571548 0.09611075]\n",
      "Iteration 25/100, Global Best Fitness: 0.8571428571428571, Global Best Position: [8.84571548 0.09611075]\n",
      "Iteration 26/100, Global Best Fitness: 0.8571428571428571, Global Best Position: [8.84571548 0.09611075]\n",
      "Iteration 27/100, Global Best Fitness: 0.8571428571428571, Global Best Position: [8.84571548 0.09611075]\n",
      "Iteration 28/100, Global Best Fitness: 0.8571428571428571, Global Best Position: [8.84571548 0.09611075]\n",
      "Iteration 29/100, Global Best Fitness: 0.8571428571428571, Global Best Position: [8.84571548 0.09611075]\n",
      "Iteration 30/100, Global Best Fitness: 0.8571428571428571, Global Best Position: [8.84571548 0.09611075]\n",
      "Iteration 31/100, Global Best Fitness: 0.8571428571428571, Global Best Position: [8.84571548 0.09611075]\n",
      "Iteration 32/100, Global Best Fitness: 0.8571428571428571, Global Best Position: [8.84571548 0.09611075]\n",
      "Iteration 33/100, Global Best Fitness: 0.8571428571428571, Global Best Position: [8.84571548 0.09611075]\n",
      "Iteration 34/100, Global Best Fitness: 0.8571428571428571, Global Best Position: [8.84571548 0.09611075]\n",
      "Iteration 35/100, Global Best Fitness: 0.8571428571428571, Global Best Position: [8.84571548 0.09611075]\n",
      "Iteration 36/100, Global Best Fitness: 0.8571428571428571, Global Best Position: [8.84571548 0.09611075]\n",
      "Iteration 37/100, Global Best Fitness: 0.8571428571428571, Global Best Position: [8.84571548 0.09611075]\n",
      "Iteration 38/100, Global Best Fitness: 0.8571428571428571, Global Best Position: [8.84571548 0.09611075]\n",
      "Iteration 39/100, Global Best Fitness: 0.8571428571428571, Global Best Position: [8.84571548 0.09611075]\n",
      "Iteration 40/100, Global Best Fitness: 0.8571428571428571, Global Best Position: [8.84571548 0.09611075]\n",
      "Iteration 41/100, Global Best Fitness: 0.8571428571428571, Global Best Position: [8.84571548 0.09611075]\n",
      "Iteration 42/100, Global Best Fitness: 0.8571428571428571, Global Best Position: [8.84571548 0.09611075]\n",
      "Iteration 43/100, Global Best Fitness: 0.8571428571428571, Global Best Position: [8.84571548 0.09611075]\n",
      "Iteration 44/100, Global Best Fitness: 0.8571428571428571, Global Best Position: [8.84571548 0.09611075]\n",
      "Iteration 45/100, Global Best Fitness: 0.8571428571428571, Global Best Position: [8.84571548 0.09611075]\n",
      "Iteration 46/100, Global Best Fitness: 0.8571428571428571, Global Best Position: [8.84571548 0.09611075]\n",
      "Iteration 47/100, Global Best Fitness: 0.8571428571428571, Global Best Position: [8.84571548 0.09611075]\n",
      "Iteration 48/100, Global Best Fitness: 0.8571428571428571, Global Best Position: [8.84571548 0.09611075]\n",
      "Iteration 49/100, Global Best Fitness: 0.8571428571428571, Global Best Position: [8.84571548 0.09611075]\n",
      "Iteration 50/100, Global Best Fitness: 0.8571428571428571, Global Best Position: [8.84571548 0.09611075]\n",
      "Iteration 51/100, Global Best Fitness: 0.8571428571428571, Global Best Position: [8.84571548 0.09611075]\n",
      "Iteration 52/100, Global Best Fitness: 0.8571428571428571, Global Best Position: [8.84571548 0.09611075]\n",
      "Iteration 53/100, Global Best Fitness: 0.8571428571428571, Global Best Position: [8.84571548 0.09611075]\n",
      "Iteration 54/100, Global Best Fitness: 0.8571428571428571, Global Best Position: [8.84571548 0.09611075]\n",
      "Iteration 55/100, Global Best Fitness: 0.8620689655172413, Global Best Position: [8.84572292 0.09611088]\n",
      "Iteration 56/100, Global Best Fitness: 0.8620689655172413, Global Best Position: [8.84572292 0.09611088]\n",
      "Iteration 57/100, Global Best Fitness: 0.8620689655172413, Global Best Position: [8.84572292 0.09611088]\n",
      "Iteration 58/100, Global Best Fitness: 0.8620689655172413, Global Best Position: [8.84572292 0.09611088]\n",
      "Iteration 59/100, Global Best Fitness: 0.8620689655172413, Global Best Position: [8.84572292 0.09611088]\n",
      "Iteration 60/100, Global Best Fitness: 0.8620689655172413, Global Best Position: [8.84572292 0.09611088]\n",
      "Iteration 61/100, Global Best Fitness: 0.8620689655172413, Global Best Position: [8.84572292 0.09611088]\n",
      "Iteration 62/100, Global Best Fitness: 0.8620689655172413, Global Best Position: [8.84572292 0.09611088]\n",
      "Iteration 63/100, Global Best Fitness: 0.8620689655172413, Global Best Position: [8.84572292 0.09611088]\n",
      "Iteration 64/100, Global Best Fitness: 0.8620689655172413, Global Best Position: [8.84572292 0.09611088]\n",
      "Iteration 65/100, Global Best Fitness: 0.8620689655172413, Global Best Position: [8.84572292 0.09611088]\n",
      "Iteration 66/100, Global Best Fitness: 0.8620689655172413, Global Best Position: [8.84572292 0.09611088]\n",
      "Iteration 67/100, Global Best Fitness: 0.8620689655172413, Global Best Position: [8.84572292 0.09611088]\n",
      "Iteration 68/100, Global Best Fitness: 0.8620689655172413, Global Best Position: [8.84572292 0.09611088]\n",
      "Iteration 69/100, Global Best Fitness: 0.8620689655172413, Global Best Position: [8.84572292 0.09611088]\n",
      "Iteration 70/100, Global Best Fitness: 0.8620689655172413, Global Best Position: [8.84572292 0.09611088]\n",
      "Iteration 71/100, Global Best Fitness: 0.8620689655172413, Global Best Position: [8.84572292 0.09611088]\n",
      "Iteration 72/100, Global Best Fitness: 0.8620689655172413, Global Best Position: [8.84572292 0.09611088]\n",
      "Iteration 73/100, Global Best Fitness: 0.8620689655172413, Global Best Position: [8.84572292 0.09611088]\n",
      "Iteration 74/100, Global Best Fitness: 0.8620689655172413, Global Best Position: [8.84572292 0.09611088]\n",
      "Iteration 75/100, Global Best Fitness: 0.8620689655172413, Global Best Position: [8.84572292 0.09611088]\n",
      "Iteration 76/100, Global Best Fitness: 0.8620689655172413, Global Best Position: [8.84572292 0.09611088]\n",
      "Iteration 77/100, Global Best Fitness: 0.8620689655172413, Global Best Position: [8.84572292 0.09611088]\n",
      "Iteration 78/100, Global Best Fitness: 0.8620689655172413, Global Best Position: [8.84572292 0.09611088]\n",
      "Iteration 79/100, Global Best Fitness: 0.8620689655172413, Global Best Position: [8.84572292 0.09611088]\n",
      "Iteration 80/100, Global Best Fitness: 0.8620689655172413, Global Best Position: [8.84572292 0.09611088]\n",
      "Iteration 81/100, Global Best Fitness: 0.8620689655172413, Global Best Position: [8.84572292 0.09611088]\n",
      "Iteration 82/100, Global Best Fitness: 0.8620689655172413, Global Best Position: [8.84572292 0.09611088]\n",
      "Iteration 83/100, Global Best Fitness: 0.8620689655172413, Global Best Position: [8.84572292 0.09611088]\n",
      "Iteration 84/100, Global Best Fitness: 0.8620689655172413, Global Best Position: [8.84572292 0.09611088]\n",
      "Iteration 85/100, Global Best Fitness: 0.8620689655172413, Global Best Position: [8.84572292 0.09611088]\n",
      "Iteration 86/100, Global Best Fitness: 0.8620689655172413, Global Best Position: [8.84572292 0.09611088]\n",
      "Iteration 87/100, Global Best Fitness: 0.8620689655172413, Global Best Position: [8.84572292 0.09611088]\n",
      "Iteration 88/100, Global Best Fitness: 0.8620689655172413, Global Best Position: [8.84572292 0.09611088]\n",
      "Iteration 89/100, Global Best Fitness: 0.8620689655172413, Global Best Position: [8.84572292 0.09611088]\n",
      "Iteration 90/100, Global Best Fitness: 0.8620689655172413, Global Best Position: [8.84572292 0.09611088]\n",
      "Iteration 91/100, Global Best Fitness: 0.8620689655172413, Global Best Position: [8.84572292 0.09611088]\n",
      "Iteration 92/100, Global Best Fitness: 0.8620689655172413, Global Best Position: [8.84572292 0.09611088]\n",
      "Iteration 93/100, Global Best Fitness: 0.8620689655172413, Global Best Position: [8.84572292 0.09611088]\n",
      "Iteration 94/100, Global Best Fitness: 0.8620689655172413, Global Best Position: [8.84572292 0.09611088]\n",
      "Iteration 95/100, Global Best Fitness: 0.8620689655172413, Global Best Position: [8.84572292 0.09611088]\n",
      "Iteration 96/100, Global Best Fitness: 0.8620689655172413, Global Best Position: [8.84572292 0.09611088]\n",
      "Iteration 97/100, Global Best Fitness: 0.8620689655172413, Global Best Position: [8.84572292 0.09611088]\n",
      "Iteration 98/100, Global Best Fitness: 0.8620689655172413, Global Best Position: [8.84572292 0.09611088]\n",
      "Iteration 99/100, Global Best Fitness: 0.8620689655172413, Global Best Position: [8.84572292 0.09611088]\n",
      "Iteration 100/100, Global Best Fitness: 0.8620689655172413, Global Best Position: [8.84572292 0.09611088]\n"
     ]
    }
   ],
   "source": [
    "best_position, best_fitness = pso(\n",
    "    objective_function, bounds=[(2, 12), (0.01, 0.99)], num_particles=10, max_iter=100\n",
    ")"
   ]
  },
  {
   "cell_type": "code",
   "execution_count": null,
   "id": "2aaae14a",
   "metadata": {
    "execution": {
     "iopub.execute_input": "2024-05-21T19:25:35.982457Z",
     "iopub.status.busy": "2024-05-21T19:25:35.981993Z",
     "iopub.status.idle": "2024-05-21T19:25:35.989740Z",
     "shell.execute_reply": "2024-05-21T19:25:35.988411Z"
    },
    "papermill": {
     "duration": 0.065494,
     "end_time": "2024-05-21T19:25:35.992715",
     "exception": false,
     "start_time": "2024-05-21T19:25:35.927221",
     "status": "completed"
    },
    "tags": []
   },
   "outputs": [
    {
     "name": "stdout",
     "output_type": "stream",
     "text": [
      "Best Position: [8.84572292 0.09611088], Best Fitness: 0.8620689655172413\n"
     ]
    }
   ],
   "source": [
    "print(f\"Best Position: {best_position}, Best Fitness: {best_fitness}\")"
   ]
  },
  {
   "cell_type": "code",
   "execution_count": null,
   "id": "59275915",
   "metadata": {
    "execution": {
     "iopub.execute_input": "2024-05-21T19:25:36.101008Z",
     "iopub.status.busy": "2024-05-21T19:25:36.100582Z",
     "iopub.status.idle": "2024-05-21T19:25:37.984431Z",
     "shell.execute_reply": "2024-05-21T19:25:37.980714Z"
    },
    "papermill": {
     "duration": 1.939587,
     "end_time": "2024-05-21T19:25:37.986726",
     "exception": true,
     "start_time": "2024-05-21T19:25:36.047139",
     "status": "failed"
    },
    "tags": []
   },
   "outputs": [],
   "source": [
    "subsets = np.unique(tries[0])\n",
    "lrs = np.unique(tries[1])"
   ]
  },
  {
   "cell_type": "code",
   "execution_count": null,
   "id": "fafaed55",
   "metadata": {
    "papermill": {
     "duration": null,
     "end_time": null,
     "exception": null,
     "start_time": null,
     "status": "pending"
    },
    "tags": []
   },
   "outputs": [],
   "source": [
    "subsets, lrs"
   ]
  },
  {
   "cell_type": "markdown",
   "id": "fd28f878",
   "metadata": {
    "papermill": {
     "duration": null,
     "end_time": null,
     "exception": null,
     "start_time": null,
     "status": "pending"
    },
    "tags": []
   },
   "source": [
    "# After Particle Swarm Optimization\n"
   ]
  },
  {
   "cell_type": "code",
   "execution_count": null,
   "id": "51223709",
   "metadata": {
    "papermill": {
     "duration": null,
     "end_time": null,
     "exception": null,
     "start_time": null,
     "status": "pending"
    },
    "tags": []
   },
   "outputs": [],
   "source": [
    "model = LogisticRegression(verbose=True)"
   ]
  },
  {
   "cell_type": "code",
   "execution_count": null,
   "id": "6f3b2953",
   "metadata": {
    "papermill": {
     "duration": null,
     "end_time": null,
     "exception": null,
     "start_time": null,
     "status": "pending"
    },
    "tags": []
   },
   "outputs": [],
   "source": [
    "model.fit(train_features_with_centroid[:, : round(best_position[0])], y_train)"
   ]
  },
  {
   "cell_type": "code",
   "execution_count": null,
   "id": "fe29fe08",
   "metadata": {
    "papermill": {
     "duration": null,
     "end_time": null,
     "exception": null,
     "start_time": null,
     "status": "pending"
    },
    "tags": []
   },
   "outputs": [],
   "source": [
    "model.plot()"
   ]
  },
  {
   "cell_type": "code",
   "execution_count": null,
   "id": "a33fe5a4",
   "metadata": {
    "papermill": {
     "duration": null,
     "end_time": null,
     "exception": null,
     "start_time": null,
     "status": "pending"
    },
    "tags": []
   },
   "outputs": [],
   "source": [
    "model.eval(train_features_with_centroid[:, : round(best_position[0])], y_train)"
   ]
  },
  {
   "cell_type": "code",
   "execution_count": null,
   "id": "5b624b98",
   "metadata": {
    "papermill": {
     "duration": null,
     "end_time": null,
     "exception": null,
     "start_time": null,
     "status": "pending"
    },
    "tags": []
   },
   "outputs": [],
   "source": [
    "model.eval(test_features_with_centroid[:, : round(best_position[0])], y_test)"
   ]
  },
  {
   "cell_type": "code",
   "execution_count": null,
   "id": "4967917d",
   "metadata": {
    "papermill": {
     "duration": null,
     "end_time": null,
     "exception": null,
     "start_time": null,
     "status": "pending"
    },
    "tags": []
   },
   "outputs": [],
   "source": [
    "print(\n",
    "    classification_report(\n",
    "        y_test,\n",
    "        model.predict(\n",
    "            test_features_with_centroid[:, : round(best_position[0])]\n",
    "        ).round(),\n",
    "    )\n",
    ")"
   ]
  },
  {
   "cell_type": "markdown",
   "id": "c1bb3ad4",
   "metadata": {
    "papermill": {
     "duration": null,
     "end_time": null,
     "exception": null,
     "start_time": null,
     "status": "pending"
    },
    "tags": []
   },
   "source": [
    "# Feature Reduction\n"
   ]
  },
  {
   "cell_type": "code",
   "execution_count": null,
   "id": "5d0d3267",
   "metadata": {
    "papermill": {
     "duration": null,
     "end_time": null,
     "exception": null,
     "start_time": null,
     "status": "pending"
    },
    "tags": []
   },
   "outputs": [],
   "source": [
    "class LDA:\n",
    "    def __init__(self):\n",
    "        self.w = None\n",
    "\n",
    "    def fit(self, X, y):\n",
    "        m0 = np.mean(X[y == 0], axis=0)\n",
    "        m1 = np.mean(X[y == 1], axis=0)\n",
    "        S0 = np.dot((X[y == 0] - m0).T, (X[y == 0] - m0))\n",
    "        S1 = np.dot((X[y == 1] - m1).T, (X[y == 1] - m1))\n",
    "        Sw = S0 + S1\n",
    "        self.w = np.dot(np.linalg.inv(Sw), (m1 - m0))\n",
    "\n",
    "    def transform(self, X):\n",
    "        result = np.dot(X, self.w)\n",
    "        return (result - result.mean()) / result.std()"
   ]
  },
  {
   "cell_type": "code",
   "execution_count": null,
   "id": "176414f8",
   "metadata": {
    "papermill": {
     "duration": null,
     "end_time": null,
     "exception": null,
     "start_time": null,
     "status": "pending"
    },
    "tags": []
   },
   "outputs": [],
   "source": [
    "lda = LDA()"
   ]
  },
  {
   "cell_type": "code",
   "execution_count": null,
   "id": "051ecf15",
   "metadata": {
    "papermill": {
     "duration": null,
     "end_time": null,
     "exception": null,
     "start_time": null,
     "status": "pending"
    },
    "tags": []
   },
   "outputs": [],
   "source": [
    "lda.fit(train_features_with_centroid[:, : round(best_position[0])], y_train)"
   ]
  },
  {
   "cell_type": "code",
   "execution_count": null,
   "id": "cb200528",
   "metadata": {
    "papermill": {
     "duration": null,
     "end_time": null,
     "exception": null,
     "start_time": null,
     "status": "pending"
    },
    "tags": []
   },
   "outputs": [],
   "source": [
    "train_features_with_centroid = lda.transform(\n",
    "    train_features_with_centroid[:, : round(best_position[0])]\n",
    ")\n",
    "test_features_with_centroid = lda.transform(\n",
    "    test_features_with_centroid[:, : round(best_position[0])]\n",
    ")\n"
   ]
  },
  {
   "cell_type": "code",
   "execution_count": null,
   "id": "420a6ab5",
   "metadata": {
    "papermill": {
     "duration": null,
     "end_time": null,
     "exception": null,
     "start_time": null,
     "status": "pending"
    },
    "tags": []
   },
   "outputs": [],
   "source": [
    "train_features_with_centroid = train_features_with_centroid.reshape(-1, 1)\n",
    "test_features_with_centroid = test_features_with_centroid.reshape(-1, 1)"
   ]
  },
  {
   "cell_type": "code",
   "execution_count": null,
   "id": "f4b729c2",
   "metadata": {
    "papermill": {
     "duration": null,
     "end_time": null,
     "exception": null,
     "start_time": null,
     "status": "pending"
    },
    "tags": []
   },
   "outputs": [],
   "source": [
    "train_features_with_centroid.shape, test_features_with_centroid.shape"
   ]
  },
  {
   "cell_type": "markdown",
   "id": "a3a58e46",
   "metadata": {
    "papermill": {
     "duration": null,
     "end_time": null,
     "exception": null,
     "start_time": null,
     "status": "pending"
    },
    "tags": []
   },
   "source": [
    "# After Feature Reduction"
   ]
  },
  {
   "cell_type": "code",
   "execution_count": null,
   "id": "2b443b19",
   "metadata": {
    "papermill": {
     "duration": null,
     "end_time": null,
     "exception": null,
     "start_time": null,
     "status": "pending"
    },
    "tags": []
   },
   "outputs": [],
   "source": [
    "model = LogisticRegression(verbose=True)"
   ]
  },
  {
   "cell_type": "code",
   "execution_count": null,
   "id": "1f0015d8",
   "metadata": {
    "papermill": {
     "duration": null,
     "end_time": null,
     "exception": null,
     "start_time": null,
     "status": "pending"
    },
    "tags": []
   },
   "outputs": [],
   "source": [
    "model.fit(train_features_with_centroid, y_train)"
   ]
  },
  {
   "cell_type": "code",
   "execution_count": null,
   "id": "3fd91a61",
   "metadata": {
    "papermill": {
     "duration": null,
     "end_time": null,
     "exception": null,
     "start_time": null,
     "status": "pending"
    },
    "tags": []
   },
   "outputs": [],
   "source": [
    "model.plot()"
   ]
  },
  {
   "cell_type": "code",
   "execution_count": null,
   "id": "8fb440d8",
   "metadata": {
    "papermill": {
     "duration": null,
     "end_time": null,
     "exception": null,
     "start_time": null,
     "status": "pending"
    },
    "tags": []
   },
   "outputs": [],
   "source": [
    "model.eval(train_features_with_centroid, y_train)"
   ]
  },
  {
   "cell_type": "code",
   "execution_count": null,
   "id": "d439e324",
   "metadata": {
    "papermill": {
     "duration": null,
     "end_time": null,
     "exception": null,
     "start_time": null,
     "status": "pending"
    },
    "tags": []
   },
   "outputs": [],
   "source": [
    "model.eval(test_features_with_centroid, y_test)"
   ]
  },
  {
   "cell_type": "code",
   "execution_count": null,
   "id": "b80728c9",
   "metadata": {
    "papermill": {
     "duration": null,
     "end_time": null,
     "exception": null,
     "start_time": null,
     "status": "pending"
    },
    "tags": []
   },
   "outputs": [],
   "source": [
    "print(classification_report(y_test, model.predict(test_features_with_centroid).round())"
   ]
  }
 ],
 "metadata": {
  "colab": {
   "name": "Covid_w/wo_pneumonia",
   "provenance": []
  },
  "kaggle": {
   "accelerator": "none",
   "dataSources": [
    {
     "datasetId": 1057171,
     "sourceId": 1778086,
     "sourceType": "datasetVersion"
    }
   ],
   "dockerImageVersionId": 30698,
   "isGpuEnabled": false,
   "isInternetEnabled": true,
   "language": "python",
   "sourceType": "notebook"
  },
  "kernelspec": {
   "display_name": "Python 3",
   "language": "python",
   "name": "python3"
  },
  "language_info": {
   "codemirror_mode": {
    "name": "ipython",
    "version": 3
   },
   "file_extension": ".py",
   "mimetype": "text/x-python",
   "name": "python",
   "nbconvert_exporter": "python",
   "pygments_lexer": "ipython3",
   "version": "3.11.7"
  },
  "papermill": {
   "default_parameters": {},
   "duration": 2188.024595,
   "end_time": "2024-05-21T19:25:38.867337",
   "environment_variables": {},
   "exception": true,
   "input_path": "__notebook__.ipynb",
   "output_path": "__notebook__.ipynb",
   "parameters": {},
   "start_time": "2024-05-21T18:49:10.842742",
   "version": "2.5.0"
  }
 },
 "nbformat": 4,
 "nbformat_minor": 5
}
